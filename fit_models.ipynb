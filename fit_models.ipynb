{
 "cells": [
  {
   "cell_type": "code",
   "execution_count": 1,
   "metadata": {
    "collapsed": true,
    "deletable": true,
    "editable": true
   },
   "outputs": [],
   "source": [
    "import pyspark as ps\n",
    "from pyspark.ml.classification import NaiveBayes\n",
    "from pyspark.ml.classification import DecisionTreeClassifier\n",
    "from pyspark.ml.classification import RandomForestClassifier\n",
    "from pyspark.ml.classification import GBTClassifier\n",
    "from pyspark.ml.tuning import CrossValidator, ParamGridBuilder\n",
    "from pyspark.ml.evaluation import MulticlassClassificationEvaluator"
   ]
  },
  {
   "cell_type": "markdown",
   "metadata": {
    "deletable": true,
    "editable": true
   },
   "source": [
    "## Load data from parquet file"
   ]
  },
  {
   "cell_type": "code",
   "execution_count": 2,
   "metadata": {
    "collapsed": false,
    "deletable": true,
    "editable": true
   },
   "outputs": [
    {
     "name": "stdout",
     "output_type": "stream",
     "text": [
      "root\n",
      " |-- author: string (nullable = true)\n",
      " |-- title: string (nullable = true)\n",
      " |-- excerpt: string (nullable = true)\n",
      " |-- excerpt_number: long (nullable = true)\n",
      " |-- author_id: double (nullable = true)\n",
      " |-- title_id: double (nullable = true)\n",
      " |-- id_vector: vector (nullable = true)\n",
      " |-- words: array (nullable = true)\n",
      " |    |-- element: string (containsNull = true)\n",
      " |-- termfreq: vector (nullable = true)\n",
      " |-- tfidf: vector (nullable = true)\n",
      " |-- w2v: vector (nullable = true)\n",
      " |-- w2v_2d: vector (nullable = true)\n",
      "\n",
      "None\n"
     ]
    }
   ],
   "source": [
    "data = spark.read.parquet(\"data/sample_data.parquet/\")\n",
    "print(data.printSchema())"
   ]
  },
  {
   "cell_type": "code",
   "execution_count": null,
   "metadata": {
    "collapsed": false,
    "deletable": true,
    "editable": true
   },
   "outputs": [],
   "source": [
    "# data = spark.read.parquet(\"data/data.parquet/\")\n",
    "# print(data.printSchema())"
   ]
  },
  {
   "cell_type": "markdown",
   "metadata": {
    "deletable": true,
    "editable": true
   },
   "source": [
    "## Make train/test split"
   ]
  },
  {
   "cell_type": "code",
   "execution_count": 3,
   "metadata": {
    "collapsed": false,
    "deletable": true,
    "editable": true
   },
   "outputs": [
    {
     "name": "stdout",
     "output_type": "stream",
     "text": [
      "CPU times: user 6.56 ms, sys: 3.51 ms, total: 10.1 ms\n",
      "Wall time: 1.97 s\n"
     ]
    }
   ],
   "source": [
    "%%time\n",
    "splits = data.randomSplit(weights=[0.75, 0.25], seed=42)\n",
    "train = splits[0].persist()\n",
    "test = splits[1].persist()\n"
   ]
  },
  {
   "cell_type": "code",
   "execution_count": null,
   "metadata": {
    "collapsed": false,
    "deletable": true,
    "editable": true
   },
   "outputs": [],
   "source": [
    "# Create debugging data\n",
    "data_sample = data.sample(withReplacement=False, fraction=0.05, seed=42)\n",
    "data_sample.persist()"
   ]
  },
  {
   "cell_type": "markdown",
   "metadata": {
    "deletable": true,
    "editable": true
   },
   "source": [
    "## Naive Bayes Classifier for author"
   ]
  },
  {
   "cell_type": "code",
   "execution_count": 4,
   "metadata": {
    "collapsed": false,
    "deletable": true,
    "editable": true
   },
   "outputs": [
    {
     "name": "stdout",
     "output_type": "stream",
     "text": [
      "CPU times: user 11.7 ms, sys: 3.18 ms, total: 14.8 ms\n",
      "Wall time: 3.26 s\n"
     ]
    }
   ],
   "source": [
    "%%time\n",
    "nb1 = NaiveBayes(smoothing=1.0, \n",
    "                 modelType='multinomial',\n",
    "                 labelCol='author_id',\n",
    "                 featuresCol='tfidf')\n",
    "model_1 = nb1.fit(train)"
   ]
  },
  {
   "cell_type": "code",
   "execution_count": 5,
   "metadata": {
    "collapsed": false,
    "deletable": true,
    "editable": true
   },
   "outputs": [
    {
     "name": "stdout",
     "output_type": "stream",
     "text": [
      "root\n",
      " |-- author: string (nullable = true)\n",
      " |-- title: string (nullable = true)\n",
      " |-- excerpt: string (nullable = true)\n",
      " |-- excerpt_number: long (nullable = true)\n",
      " |-- author_id: double (nullable = true)\n",
      " |-- title_id: double (nullable = true)\n",
      " |-- id_vector: vector (nullable = true)\n",
      " |-- words: array (nullable = true)\n",
      " |    |-- element: string (containsNull = true)\n",
      " |-- termfreq: vector (nullable = true)\n",
      " |-- tfidf: vector (nullable = true)\n",
      " |-- w2v: vector (nullable = true)\n",
      " |-- w2v_2d: vector (nullable = true)\n",
      " |-- rawPrediction: vector (nullable = true)\n",
      " |-- probability: vector (nullable = true)\n",
      " |-- prediction: double (nullable = true)\n",
      "\n",
      "None\n",
      "CPU times: user 3.48 ms, sys: 1.92 ms, total: 5.4 ms\n",
      "Wall time: 1.12 s\n"
     ]
    }
   ],
   "source": [
    "%%time\n",
    "predictions = model_1.transform(test)\n",
    "predictions.persist()\n",
    "print(predictions.printSchema())"
   ]
  },
  {
   "cell_type": "code",
   "execution_count": 8,
   "metadata": {
    "collapsed": false,
    "deletable": true,
    "editable": true
   },
   "outputs": [
    {
     "name": "stdout",
     "output_type": "stream",
     "text": [
      "CPU times: user 2.39 ms, sys: 1.64 ms, total: 4.02 ms\n",
      "Wall time: 11.5 ms\n"
     ]
    }
   ],
   "source": [
    "%%time\n",
    "evaluator = MulticlassClassificationEvaluator(labelCol='author_id',\n",
    "                                               predictionCol='prediction')"
   ]
  },
  {
   "cell_type": "code",
   "execution_count": 9,
   "metadata": {
    "collapsed": false,
    "deletable": true,
    "editable": true
   },
   "outputs": [
    {
     "name": "stdout",
     "output_type": "stream",
     "text": [
      "Author test set accuracy = 0.9674671445639187\n"
     ]
    },
    {
     "data": {
      "text/plain": [
       "DataFrame[author: string, title: string, excerpt: string, excerpt_number: bigint, author_id: double, title_id: double, id_vector: vector, words: array<string>, termfreq: vector, tfidf: vector, w2v: vector, w2v_2d: vector, rawPrediction: vector, probability: vector, prediction: double]"
      ]
     },
     "execution_count": 9,
     "metadata": {},
     "output_type": "execute_result"
    }
   ],
   "source": [
    "accuracy = evaluator.evaluate(predictions)\n",
    "print('Author test set accuracy = ' + str(accuracy))\n",
    "predictions.unpersist()"
   ]
  },
  {
   "cell_type": "markdown",
   "metadata": {
    "deletable": true,
    "editable": true
   },
   "source": [
    "## Decision Tree Classifier for author"
   ]
  },
  {
   "cell_type": "code",
   "execution_count": 10,
   "metadata": {
    "collapsed": false,
    "deletable": true,
    "editable": true
   },
   "outputs": [
    {
     "name": "stdout",
     "output_type": "stream",
     "text": [
      "CPU times: user 2.88 ms, sys: 4.68 ms, total: 7.56 ms\n",
      "Wall time: 143 ms\n"
     ]
    }
   ],
   "source": [
    "%%time\n",
    "dtc = DecisionTreeClassifier(labelCol='author_id',\n",
    "                             featuresCol='tfidf',\n",
    "                             maxMemoryInMB=2056)"
   ]
  },
  {
   "cell_type": "code",
   "execution_count": 11,
   "metadata": {
    "collapsed": false,
    "deletable": true,
    "editable": true
   },
   "outputs": [
    {
     "name": "stdout",
     "output_type": "stream",
     "text": [
      "DecisionTreeClassificationModel (uid=DecisionTreeClassifier_43e39b9baf6148917504) of depth 5 with 43 nodes\n",
      "CPU times: user 534 ms, sys: 138 ms, total: 671 ms\n",
      "Wall time: 1min 16s\n"
     ]
    }
   ],
   "source": [
    "%%time\n",
    "\n",
    "# Spark only supports max depth of 30\n",
    "\n",
    "paramGrid = ParamGridBuilder().addGrid(dtc.maxDepth, \n",
    "                                       [5,10,15,20,25,30]).build()\n",
    "\n",
    "evaluator = MulticlassClassificationEvaluator(labelCol='author_id',\n",
    "                                              predictionCol='prediction',\n",
    "                                              metricName='f1')\n",
    "\n",
    "crossval = CrossValidator(estimator=dtc,\n",
    "                          estimatorParamMaps=paramGrid,\n",
    "                          evaluator=evaluator,\n",
    "                          numFolds=3)\n",
    "\n",
    "cv_dtc = crossval.fit(data)\n",
    "\n",
    "model = cv_dtc.bestModel\n",
    "print(model)"
   ]
  },
  {
   "cell_type": "code",
   "execution_count": 12,
   "metadata": {
    "collapsed": false,
    "deletable": true,
    "editable": true
   },
   "outputs": [
    {
     "name": "stdout",
     "output_type": "stream",
     "text": [
      "root\n",
      " |-- author: string (nullable = true)\n",
      " |-- title: string (nullable = true)\n",
      " |-- excerpt: string (nullable = true)\n",
      " |-- excerpt_number: long (nullable = true)\n",
      " |-- author_id: double (nullable = true)\n",
      " |-- title_id: double (nullable = true)\n",
      " |-- id_vector: vector (nullable = true)\n",
      " |-- words: array (nullable = true)\n",
      " |    |-- element: string (containsNull = true)\n",
      " |-- termfreq: vector (nullable = true)\n",
      " |-- tfidf: vector (nullable = true)\n",
      " |-- w2v: vector (nullable = true)\n",
      " |-- w2v_2d: vector (nullable = true)\n",
      " |-- rawPrediction: vector (nullable = true)\n",
      " |-- probability: vector (nullable = true)\n",
      " |-- prediction: double (nullable = true)\n",
      "\n",
      "None\n",
      "CPU times: user 3.15 ms, sys: 2.64 ms, total: 5.79 ms\n",
      "Wall time: 140 ms\n"
     ]
    }
   ],
   "source": [
    "%%time\n",
    "predictions = model.transform(test)\n",
    "predictions.persist()\n",
    "print(predictions.printSchema())"
   ]
  },
  {
   "cell_type": "code",
   "execution_count": 13,
   "metadata": {
    "collapsed": false,
    "deletable": true,
    "editable": true
   },
   "outputs": [
    {
     "name": "stdout",
     "output_type": "stream",
     "text": [
      "Author test set accuracy = 0.8318656340032748\n"
     ]
    },
    {
     "data": {
      "text/plain": [
       "DataFrame[author: string, title: string, excerpt: string, excerpt_number: bigint, author_id: double, title_id: double, id_vector: vector, words: array<string>, termfreq: vector, tfidf: vector, w2v: vector, w2v_2d: vector, rawPrediction: vector, probability: vector, prediction: double]"
      ]
     },
     "execution_count": 13,
     "metadata": {},
     "output_type": "execute_result"
    }
   ],
   "source": [
    "accuracy = evaluator.evaluate(predictions)\n",
    "print('Author test set accuracy = ' + str(accuracy))\n",
    "predictions.unpersist()"
   ]
  },
  {
   "cell_type": "markdown",
   "metadata": {
    "deletable": true,
    "editable": true
   },
   "source": [
    "## Random Forrest Classifier for author"
   ]
  },
  {
   "cell_type": "code",
   "execution_count": 14,
   "metadata": {
    "collapsed": false,
    "deletable": true,
    "editable": true
   },
   "outputs": [
    {
     "name": "stdout",
     "output_type": "stream",
     "text": [
      "CPU times: user 2.53 ms, sys: 1.19 ms, total: 3.72 ms\n",
      "Wall time: 23 ms\n"
     ]
    }
   ],
   "source": [
    "%%time\n",
    "rfc = RandomForestClassifier(labelCol='author_id',\n",
    "                             featuresCol='tfidf',\n",
    "                             numTrees=50,\n",
    "                             maxMemoryInMB=2056)"
   ]
  },
  {
   "cell_type": "code",
   "execution_count": 15,
   "metadata": {
    "collapsed": false,
    "deletable": true,
    "editable": true
   },
   "outputs": [
    {
     "name": "stdout",
     "output_type": "stream",
     "text": [
      "RandomForestClassificationModel (uid=rfc_6d150c91dd4e) with 50 trees\n",
      "CPU times: user 565 ms, sys: 258 ms, total: 823 ms\n",
      "Wall time: 1min 35s\n"
     ]
    }
   ],
   "source": [
    "%%time\n",
    "\n",
    "# Spark only supports max depth of 30\n",
    "\n",
    "paramGrid = ParamGridBuilder().addGrid(rfc.maxDepth, \n",
    "                                       [5,10,15,20,25,30]).build()\n",
    "\n",
    "evaluator = MulticlassClassificationEvaluator(labelCol='author_id',\n",
    "                                              predictionCol='prediction',\n",
    "                                              metricName='f1')\n",
    "\n",
    "crossval = CrossValidator(estimator=rfc,\n",
    "                          estimatorParamMaps=paramGrid,\n",
    "                          evaluator=evaluator,\n",
    "                          numFolds=3)\n",
    "\n",
    "cv_rfc = crossval.fit(data)\n",
    "\n",
    "model = cv_rfc.bestModel\n",
    "print(model)"
   ]
  },
  {
   "cell_type": "code",
   "execution_count": 16,
   "metadata": {
    "collapsed": false,
    "deletable": true,
    "editable": true
   },
   "outputs": [
    {
     "name": "stdout",
     "output_type": "stream",
     "text": [
      "root\n",
      " |-- author: string (nullable = true)\n",
      " |-- title: string (nullable = true)\n",
      " |-- excerpt: string (nullable = true)\n",
      " |-- excerpt_number: long (nullable = true)\n",
      " |-- author_id: double (nullable = true)\n",
      " |-- title_id: double (nullable = true)\n",
      " |-- id_vector: vector (nullable = true)\n",
      " |-- words: array (nullable = true)\n",
      " |    |-- element: string (containsNull = true)\n",
      " |-- termfreq: vector (nullable = true)\n",
      " |-- tfidf: vector (nullable = true)\n",
      " |-- w2v: vector (nullable = true)\n",
      " |-- w2v_2d: vector (nullable = true)\n",
      " |-- rawPrediction: vector (nullable = true)\n",
      " |-- probability: vector (nullable = true)\n",
      " |-- prediction: double (nullable = true)\n",
      "\n",
      "None\n",
      "CPU times: user 2.51 ms, sys: 1.84 ms, total: 4.34 ms\n",
      "Wall time: 118 ms\n"
     ]
    }
   ],
   "source": [
    "%%time\n",
    "predictions = model.transform(test)\n",
    "predictions.persist()\n",
    "print(predictions.printSchema())"
   ]
  },
  {
   "cell_type": "code",
   "execution_count": 17,
   "metadata": {
    "collapsed": false,
    "deletable": true,
    "editable": true
   },
   "outputs": [
    {
     "name": "stdout",
     "output_type": "stream",
     "text": [
      "Author test set accuracy = 1.0\n"
     ]
    },
    {
     "data": {
      "text/plain": [
       "DataFrame[author: string, title: string, excerpt: string, excerpt_number: bigint, author_id: double, title_id: double, id_vector: vector, words: array<string>, termfreq: vector, tfidf: vector, w2v: vector, w2v_2d: vector, rawPrediction: vector, probability: vector, prediction: double]"
      ]
     },
     "execution_count": 17,
     "metadata": {},
     "output_type": "execute_result"
    }
   ],
   "source": [
    "accuracy = evaluator.evaluate(predictions)\n",
    "print('Author test set accuracy = ' + str(accuracy))\n",
    "predictions.unpersist()"
   ]
  },
  {
   "cell_type": "markdown",
   "metadata": {
    "deletable": true,
    "editable": true
   },
   "source": [
    "##  Naives Bayes Classifier for title"
   ]
  },
  {
   "cell_type": "code",
   "execution_count": 18,
   "metadata": {
    "collapsed": false,
    "deletable": true,
    "editable": true
   },
   "outputs": [
    {
     "name": "stdout",
     "output_type": "stream",
     "text": [
      "CPU times: user 5.82 ms, sys: 1.73 ms, total: 7.55 ms\n",
      "Wall time: 258 ms\n"
     ]
    }
   ],
   "source": [
    "%%time\n",
    "nb2 = NaiveBayes(smoothing=1.0, \n",
    "                 modelType='multinomial',\n",
    "                 labelCol='title_id',\n",
    "                 featuresCol='tfidf')\n",
    "model2 = nb2.fit(train)"
   ]
  },
  {
   "cell_type": "code",
   "execution_count": 19,
   "metadata": {
    "collapsed": false,
    "deletable": true,
    "editable": true
   },
   "outputs": [
    {
     "name": "stdout",
     "output_type": "stream",
     "text": [
      "root\n",
      " |-- author: string (nullable = true)\n",
      " |-- title: string (nullable = true)\n",
      " |-- excerpt: string (nullable = true)\n",
      " |-- excerpt_number: long (nullable = true)\n",
      " |-- author_id: double (nullable = true)\n",
      " |-- title_id: double (nullable = true)\n",
      " |-- id_vector: vector (nullable = true)\n",
      " |-- words: array (nullable = true)\n",
      " |    |-- element: string (containsNull = true)\n",
      " |-- termfreq: vector (nullable = true)\n",
      " |-- tfidf: vector (nullable = true)\n",
      " |-- w2v: vector (nullable = true)\n",
      " |-- w2v_2d: vector (nullable = true)\n",
      " |-- rawPrediction: vector (nullable = true)\n",
      " |-- probability: vector (nullable = true)\n",
      " |-- prediction: double (nullable = true)\n",
      "\n",
      "None\n",
      "CPU times: user 2.67 ms, sys: 1.41 ms, total: 4.08 ms\n",
      "Wall time: 107 ms\n"
     ]
    }
   ],
   "source": [
    "%%time\n",
    "predictions = model2.transform(test)\n",
    "predictions.persist()\n",
    "print(predictions.printSchema())"
   ]
  },
  {
   "cell_type": "code",
   "execution_count": 20,
   "metadata": {
    "collapsed": false,
    "deletable": true,
    "editable": true
   },
   "outputs": [
    {
     "name": "stdout",
     "output_type": "stream",
     "text": [
      "CPU times: user 1.72 ms, sys: 1.05 ms, total: 2.77 ms\n",
      "Wall time: 7.1 ms\n"
     ]
    }
   ],
   "source": [
    "%%time\n",
    "evaluator2 = MulticlassClassificationEvaluator(labelCol='title_id',\n",
    "                                               predictionCol='prediction')"
   ]
  },
  {
   "cell_type": "code",
   "execution_count": 21,
   "metadata": {
    "collapsed": false,
    "deletable": true,
    "editable": true
   },
   "outputs": [
    {
     "name": "stdout",
     "output_type": "stream",
     "text": [
      "Title test set accuracy = 0.9397465437788016\n"
     ]
    },
    {
     "data": {
      "text/plain": [
       "DataFrame[author: string, title: string, excerpt: string, excerpt_number: bigint, author_id: double, title_id: double, id_vector: vector, words: array<string>, termfreq: vector, tfidf: vector, w2v: vector, w2v_2d: vector, rawPrediction: vector, probability: vector, prediction: double]"
      ]
     },
     "execution_count": 21,
     "metadata": {},
     "output_type": "execute_result"
    }
   ],
   "source": [
    "accuracy2 = evaluator2.evaluate(predictions)\n",
    "print('Title test set accuracy = ' + str(accuracy2))\n",
    "\n",
    "predictions.unpersist()"
   ]
  },
  {
   "cell_type": "code",
   "execution_count": null,
   "metadata": {
    "collapsed": true,
    "deletable": true,
    "editable": true
   },
   "outputs": [],
   "source": []
  }
 ],
 "metadata": {
  "kernelspec": {
   "display_name": "py35",
   "language": "python",
   "name": "py35"
  },
  "language_info": {
   "codemirror_mode": {
    "name": "ipython",
    "version": 3
   },
   "file_extension": ".py",
   "mimetype": "text/x-python",
   "name": "python",
   "nbconvert_exporter": "python",
   "pygments_lexer": "ipython3",
   "version": "3.5.2"
  }
 },
 "nbformat": 4,
 "nbformat_minor": 2
}
