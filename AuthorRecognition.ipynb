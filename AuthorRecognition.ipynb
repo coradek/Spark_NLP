{
 "cells": [
  {
   "cell_type": "markdown",
   "metadata": {},
   "source": [
    "### Text processing for author recognition using Spark"
   ]
  },
  {
   "cell_type": "markdown",
   "metadata": {},
   "source": [
    "#### Import statements"
   ]
  },
  {
   "cell_type": "code",
   "execution_count": 1,
   "metadata": {
    "collapsed": true
   },
   "outputs": [],
   "source": [
    "import pyspark as ps    # import the spark suite\n",
    "import warnings         # display warning if spark context already exists\n",
    "import os"
   ]
  },
  {
   "cell_type": "markdown",
   "metadata": {},
   "source": [
    "#### Initialized Spark Context"
   ]
  },
  {
   "cell_type": "code",
   "execution_count": 2,
   "metadata": {
    "collapsed": false
   },
   "outputs": [
    {
     "name": "stderr",
     "output_type": "stream",
     "text": [
      "/Users/ophidian/anaconda/lib/python2.7/site-packages/ipykernel/__main__.py:5: UserWarning: SparkContext already exists\n"
     ]
    }
   ],
   "source": [
    "try:\n",
    "    sc = ps.SparkContext('local[4]')                # create spark context to work locally on all available cpus\n",
    "    print('created SparkContext')\n",
    "except ValueError:\n",
    "    warnings.warn('SparkContext already exists')    # issue a warning if context already exists"
   ]
  },
  {
   "cell_type": "markdown",
   "metadata": {},
   "source": [
    "#### Read all of the files in data dirctory"
   ]
  },
  {
   "cell_type": "code",
   "execution_count": 3,
   "metadata": {
    "collapsed": false
   },
   "outputs": [],
   "source": [
    "# texts = {}\n",
    "# for book in os.listdir('data'):\n",
    "#    texts[str(book)] = sc.textFile('data/{}'.format(book))\n",
    "#    print str(book), '\\n\\t', texts[str(book)].take(1)"
   ]
  },
  {
   "cell_type": "code",
   "execution_count": 4,
   "metadata": {
    "collapsed": true
   },
   "outputs": [],
   "source": [
    "book = 'data/AConnecticutYankeeInKingArthursCourt_MarkTwain.txt'\n",
    "book = sc.textFile(book)"
   ]
  },
  {
   "cell_type": "code",
   "execution_count": 5,
   "metadata": {
    "collapsed": false
   },
   "outputs": [
    {
     "data": {
      "text/plain": [
       "[u'A CONNECTICUT YANKEE IN KING ARTHUR\\u2019S COURT',\n",
       " u'',\n",
       " u'',\n",
       " u'',\n",
       " u'',\n",
       " u'A WORD OF EXPLANATION',\n",
       " u'',\n",
       " u'It was in Warwick Castle that I came across the curious stranger',\n",
       " u'whom I am going to talk about.  He attracted me by three things:',\n",
       " u'his candid simplicity, his marvelous familiarity with ancient armor,',\n",
       " u'and the restfulness of his company--for he did all the talking.',\n",
       " u'We fell together, as modest people will, in the tail of the herd',\n",
       " u'that was being shown through, and he at once began to say things',\n",
       " u'which interested me.  As he talked along, softly, pleasantly,',\n",
       " u'flowingly, he seemed to drift away imperceptibly out of this world',\n",
       " u'and time, and into some remote era and old forgotten country;',\n",
       " u'and so he gradually wove such a spell about me that I seemed',\n",
       " u'to move among the specters and shadows and dust and mold of a gray',\n",
       " u'antiquity, holding speech with a relic of it!  Exactly as I would',\n",
       " u'speak of my nearest personal friends or enemies, or my most familiar',\n",
       " u'neighbors, he spoke of Sir Bedivere, Sir Bors de Ganis, Sir Launcelot',\n",
       " u'of the Lake, Sir Galahad, and all the other great names of the',\n",
       " u'Table Round--and how old, old, unspeakably old and faded and dry',\n",
       " u'and musty and ancient he came to look as he went on!  Presently',\n",
       " u'he turned to me and said, just as one might speak of the weather,',\n",
       " u'or any other common matter--',\n",
       " u'',\n",
       " u'\\u201cYou know about transmigration of souls; do you know about',\n",
       " u'transposition of epochs--and bodies?\\u201d',\n",
       " u'']"
      ]
     },
     "execution_count": 5,
     "metadata": {},
     "output_type": "execute_result"
    }
   ],
   "source": [
    "book.take(30)\n"
   ]
  },
  {
   "cell_type": "code",
   "execution_count": 25,
   "metadata": {
    "collapsed": false
   },
   "outputs": [
    {
     "ename": "SyntaxError",
     "evalue": "invalid syntax (<ipython-input-25-2df62aae3407>, line 1)",
     "output_type": "error",
     "traceback": [
      "\u001b[0;36m  File \u001b[0;32m\"<ipython-input-25-2df62aae3407>\"\u001b[0;36m, line \u001b[0;32m1\u001b[0m\n\u001b[0;31m    paras = book.flatMap(lambda x+'^^^^^^^': x.split('.'))\u001b[0m\n\u001b[0m                                 ^\u001b[0m\n\u001b[0;31mSyntaxError\u001b[0m\u001b[0;31m:\u001b[0m invalid syntax\n"
     ]
    }
   ],
   "source": [
    "paras = book.flatMap(lambda x: x.split('.'))\n",
    "# paras = sc.serialize()"
   ]
  },
  {
   "cell_type": "code",
   "execution_count": 28,
   "metadata": {
    "collapsed": false
   },
   "outputs": [],
   "source": [
    "with open('carol_bit.txt', 'rw') as f:\n",
    "    text = f.read()\n",
    "    paragraphs = text.split('\\n\\n')\n",
    "    for para in paragraphs:\n",
    "        # replace \\n with space\n",
    "    rdd = sc.parallelize(paragraphs)"
   ]
  },
  {
   "cell_type": "code",
   "execution_count": 29,
   "metadata": {
    "collapsed": false
   },
   "outputs": [
    {
     "data": {
      "text/plain": [
       "[\"Marley was dead, to begin with. There is no doubt whatever about that.\\nThe register of his burial was signed by the clergyman, the clerk, the\\nundertaker, and the chief mourner. Scrooge signed it. And Scrooge's name\\nwas good upon 'Change for anything he chose to put his hand to. Old\\nMarley was as dead as a door-nail.\",\n",
       " \"Mind! I don't mean to say that I know, of my own knowledge, what there\\nis particularly dead about a door-nail. I might have been inclined,\\nmyself, to regard a coffin-nail as the deadest piece of ironmongery in\\nthe trade. But the wisdom of our ancestors is in the simile; and my\\nunhallowed hands shall not disturb it, or the Country's done for. You\\nwill, therefore, permit me to repeat, emphatically, that Marley was as\\ndead as a door-nail.\",\n",
       " \"Scrooge knew he was dead? Of course he did. How could it be otherwise?\\nScrooge and he were partners for I don't know how many years. Scrooge\\nwas his sole executor, his sole administrator, his sole assign, his\\nsole residuary legatee, his sole friend, and sole mourner. And even\\nScrooge was not so dreadfully cut up by the sad event, but that he was\\nan excellent man of business on the very day of the funeral, and\\nsolemnised it with an undoubted bargain.\",\n",
       " \"The mention of Marley's funeral brings me back to the point I started\\nfrom. There is no doubt that Marley was dead. This must be distinctly\\nunderstood, or nothing wonderful can come of the story I am going to\\nrelate. If we were not perfectly convinced that Hamlet's Father died\\nbefore the play began, there would be nothing more remarkable in his\\ntaking a stroll at night, in an easterly wind, upon his own ramparts,\\nthan there would be in any other middle-aged gentleman rashly turning\\nout after dark in a breezy spot--say St. Paul's Church-yard, for\\ninstance--literally to astonish his son's weak mind.\\n\"]"
      ]
     },
     "execution_count": 29,
     "metadata": {},
     "output_type": "execute_result"
    }
   ],
   "source": [
    "rdd.collect()"
   ]
  },
  {
   "cell_type": "code",
   "execution_count": null,
   "metadata": {
    "collapsed": true
   },
   "outputs": [],
   "source": []
  }
 ],
 "metadata": {
  "anaconda-cloud": {},
  "kernelspec": {
   "display_name": "Python 2",
   "language": "python",
   "name": "python2"
  },
  "language_info": {
   "codemirror_mode": {
    "name": "ipython",
    "version": 2
   },
   "file_extension": ".py",
   "mimetype": "text/x-python",
   "name": "python",
   "nbconvert_exporter": "python",
   "pygments_lexer": "ipython2",
   "version": "2.7.12"
  }
 },
 "nbformat": 4,
 "nbformat_minor": 0
}
