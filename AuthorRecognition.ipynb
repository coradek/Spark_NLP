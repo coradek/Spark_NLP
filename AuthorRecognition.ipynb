{
 "cells": [
  {
   "cell_type": "markdown",
   "metadata": {},
   "source": [
    "### Text Processing for Author Recognition using Spark"
   ]
  },
  {
   "cell_type": "markdown",
   "metadata": {},
   "source": [
    "#### Import statements"
   ]
  },
  {
   "cell_type": "code",
   "execution_count": 8,
   "metadata": {
    "collapsed": true
   },
   "outputs": [],
   "source": [
    "import string"
   ]
  },
  {
   "cell_type": "markdown",
   "metadata": {},
   "source": [
    "#### Initialized Spark Context"
   ]
  },
  {
   "cell_type": "markdown",
   "metadata": {},
   "source": [
    "### Read data.json into Spark SQL context"
   ]
  },
  {
   "cell_type": "code",
   "execution_count": 1,
   "metadata": {
    "collapsed": false
   },
   "outputs": [],
   "source": [
    "data_file = 'data/data.json'\n",
    "df = spark.read.json(data_file)"
   ]
  },
  {
   "cell_type": "markdown",
   "metadata": {
    "collapsed": true
   },
   "source": [
    "CONSIDER:\n",
    "\n",
    "for fun use RDD and map reduce to remove the double bars I put into the excerpts!"
   ]
  },
  {
   "cell_type": "code",
   "execution_count": null,
   "metadata": {
    "collapsed": false
   },
   "outputs": [],
   "source": [
    "print df.printSchema()\n",
    "print df.count()\n",
    "df.show(3)"
   ]
  },
  {
   "cell_type": "markdown",
   "metadata": {},
   "source": [
    "#### NOTE\n",
    "* Column Objects (like df.excerpt) cannot be called\n",
    "* Use df.select(col_name).show(num) to view the column"
   ]
  },
  {
   "cell_type": "code",
   "execution_count": null,
   "metadata": {
    "collapsed": true
   },
   "outputs": [],
   "source": [
    "# print \"df.excerpt type = \\t\\t\", type(df.excerpt)\n",
    "# print \"df.select('excerpt') type = \\t\", type(df.select('excerpt'))\n",
    "# df.select('excerpt').show(10)"
   ]
  },
  {
   "cell_type": "markdown",
   "metadata": {},
   "source": [
    "### Here we import some sql funtions and give our dataframe a SQL table name"
   ]
  },
  {
   "cell_type": "code",
   "execution_count": null,
   "metadata": {
    "collapsed": false
   },
   "outputs": [],
   "source": [
    "from pyspark.sql.functions import length\n",
    "from pyspark.sql.functions import count"
   ]
  },
  {
   "cell_type": "code",
   "execution_count": null,
   "metadata": {
    "collapsed": true
   },
   "outputs": [],
   "source": [
    "df.createOrReplaceTempView(\"excerpts\")"
   ]
  },
  {
   "cell_type": "code",
   "execution_count": null,
   "metadata": {
    "collapsed": false
   },
   "outputs": [],
   "source": [
    "spark.sql(\n",
    "    \"SELECT count(*) FROM excerpts WHERE author = 'MarkTwain'\"\n",
    "    ).show()"
   ]
  },
  {
   "cell_type": "markdown",
   "metadata": {},
   "source": [
    "SQL queries in Sprak return dataframes. Columns can then be selected through Spark's dataframe syntax"
   ]
  },
  {
   "cell_type": "code",
   "execution_count": null,
   "metadata": {
    "collapsed": false
   },
   "outputs": [],
   "source": [
    "sqlDF = spark.sql('''\n",
    "        SELECT excerpt, length(excerpt) AS character_count\n",
    "        FROM excerpts\n",
    "        WHERE author = \"MarkTwain\"\n",
    "        ''')\n",
    "\n",
    "sqlDF.show(10)\n",
    "\n",
    "print \"type(sqlDF): \\t\\t\", type(sqlDF)\n",
    "print \"type(sqlDF.character_count): \", type(sqlDF.character_count)"
   ]
  },
  {
   "cell_type": "code",
   "execution_count": null,
   "metadata": {
    "collapsed": false
   },
   "outputs": [],
   "source": [
    "# individual values seem a little clunky to access . . .\n",
    "\n",
    "# head returns a list of rows: zeroth row, first col == first character count entry\n",
    "sqlDF.head(5)[0][1]"
   ]
  },
  {
   "cell_type": "markdown",
   "metadata": {
    "collapsed": true
   },
   "source": [
    "# momentary aside to find special chars in books"
   ]
  },
  {
   "cell_type": "code",
   "execution_count": 40,
   "metadata": {
    "collapsed": false
   },
   "outputs": [
    {
     "name": "stdout",
     "output_type": "stream",
     "text": [
      "222121\n",
      "set(['\\x80', '\\xc3', '\\xe2', '\\xc5', '\\x84', '\\xa6', '\\xa9', '\\xa0', '\\xaa', '\\xa3', '\\xb1', '\\x91', '\\xb3', '\\xc2', '\\xb4', '\\xb6', '\\x99', '\\x98', '\\x9d', '\\x9c', '\\xa2'])\n"
     ]
    }
   ],
   "source": [
    "directory = 'data/books'\n",
    "weird_chars = {}\n",
    "count = 0\n",
    "for book in os.listdir(directory):\n",
    "    path = os.path.join(directory, book)\n",
    "    with open(path, 'r') as f:\n",
    "        text = f.read()\n",
    "        for c in text:\n",
    "            if c not in '0123456789abcdefghijklmnopqrstuvwxyzABCDEFGHIJKLMNOPQRSTUVWXYZ \\n\\r\\t' + string.punctuation:\n",
    "                weird_chars.add(c)\n",
    "                count +=1\n",
    "\n",
    "print count\n",
    "print weird_chars\n",
    "    "
   ]
  },
  {
   "cell_type": "code",
   "execution_count": 35,
   "metadata": {
    "collapsed": false
   },
   "outputs": [
    {
     "data": {
      "text/plain": [
       "'\\x80\\xc3\\xe2\\xc5\\x84\\xa6\\xa9\\xa0\\xaa\\xa3\\xb1\\x91\\xb3\\xc2\\xb4\\xb6\\x99\\x98\\x9d\\x9c\\xa2'"
      ]
     },
     "execution_count": 35,
     "metadata": {},
     "output_type": "execute_result"
    }
   ],
   "source": [
    "punc = \"\"\n",
    "for x in weird_chars:\n",
    "    punc += x\n",
    "    \n",
    "punc\n",
    "    "
   ]
  },
  {
   "cell_type": "code",
   "execution_count": 36,
   "metadata": {
    "collapsed": false
   },
   "outputs": [
    {
     "name": "stdout",
     "output_type": "stream",
     "text": [
      "ÃâÅ¦© ª£±³Â´¶¢\n"
     ]
    }
   ],
   "source": [
    "print u'\\x80\\xc3\\xe2\\xc5\\x84\\xa6\\xa9\\xa0\\xaa\\xa3\\xb1\\x91\\xb3\\xc2\\xb4\\xb6\\x99\\x98\\x9d\\x9c\\xa2'"
   ]
  },
  {
   "cell_type": "code",
   "execution_count": 47,
   "metadata": {
    "collapsed": false
   },
   "outputs": [
    {
     "name": "stdout",
     "output_type": "stream",
     "text": [
      "“”\n",
      "“”\n",
      "Ã\n",
      "ÃâÅ¦© ª£±³Â´¶¢\n"
     ]
    },
    {
     "data": {
      "text/plain": [
       "u'\\x80\\xc3\\xe2\\xc5\\x84\\xa6\\xa9 \\xaa\\xa3\\xb1\\x91\\xb3\\xc2\\xb4\\xb6\\x99\\x98\\x9d\\x9c\\xa2'"
      ]
     },
     "execution_count": 47,
     "metadata": {},
     "output_type": "execute_result"
    }
   ],
   "source": [
    "print u'\\u201c\\u201d'\n",
    "print u'“”'\n",
    "\n",
    "print u'\\xc3'\n",
    "print u'ÃâÅ¦© ª£±³Â´¶¢'\n",
    "u'ÃâÅ¦© ª£±³Â´¶¢'"
   ]
  },
  {
   "cell_type": "code",
   "execution_count": 48,
   "metadata": {
    "collapsed": false
   },
   "outputs": [
    {
     "data": {
      "text/plain": [
       "'\\xe2\\x80\\x9c\\xe2\\x80\\x9d'"
      ]
     },
     "execution_count": 48,
     "metadata": {},
     "output_type": "execute_result"
    }
   ],
   "source": [
    "'“”'"
   ]
  },
  {
   "cell_type": "code",
   "execution_count": null,
   "metadata": {
    "collapsed": true
   },
   "outputs": [],
   "source": []
  }
 ],
 "metadata": {
  "anaconda-cloud": {},
  "kernelspec": {
   "display_name": "Python 2",
   "language": "python",
   "name": "python2"
  },
  "language_info": {
   "codemirror_mode": {
    "name": "ipython",
    "version": 2
   },
   "file_extension": ".py",
   "mimetype": "text/x-python",
   "name": "python",
   "nbconvert_exporter": "python",
   "pygments_lexer": "ipython2",
   "version": "2.7.12"
  }
 },
 "nbformat": 4,
 "nbformat_minor": 0
}
