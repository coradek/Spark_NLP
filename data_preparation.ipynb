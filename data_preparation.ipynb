{
 "cells": [
  {
   "cell_type": "markdown",
   "metadata": {},
   "source": [
    "# Building the full dataframe:\n",
    "\n",
    "With our full pipeline defined in a script (nlp_pipline.py) we can now save the resulting dataframe to a parquet file for easy access in future notebooks!"
   ]
  },
  {
   "cell_type": "code",
   "execution_count": null,
   "metadata": {
    "collapsed": true
   },
   "outputs": [],
   "source": [
    "from src.nlp_pipeline import get_pipeline\n",
    "\n",
    "%autoreload 2"
   ]
  },
  {
   "cell_type": "code",
   "execution_count": null,
   "metadata": {
    "collapsed": false
   },
   "outputs": [],
   "source": [
    "pipeline = get_pipeline()\n",
    "\n",
    "data_file = 'data/excerpts.json'\n",
    "df = spark.read.json(data_file)"
   ]
  },
  {
   "cell_type": "markdown",
   "metadata": {},
   "source": [
    "# Create a Small Test DF"
   ]
  },
  {
   "cell_type": "code",
   "execution_count": null,
   "metadata": {
    "collapsed": false,
    "scrolled": false
   },
   "outputs": [],
   "source": [
    "df.createOrReplaceTempView(\"df\")\n",
    "\n",
    "tiny_df = spark.sql(\"\"\"\n",
    "        SELECT author, title, excerpt, excerpt_number\n",
    "        FROM df\n",
    "        WHERE excerpt_number BETWEEN 15 AND 25\n",
    "        ORDER BY author, title\n",
    "        \"\"\").persist()"
   ]
  },
  {
   "cell_type": "code",
   "execution_count": null,
   "metadata": {
    "collapsed": false,
    "scrolled": false
   },
   "outputs": [],
   "source": [
    "tiny_df.createOrReplaceTempView(\"Sample\")\n",
    "\n",
    "spark.sql(\"\"\"\n",
    "        SELECT author, title, COUNT(DISTINCT excerpt) as num_excerpts\n",
    "        FROM Sample\n",
    "        GROUP BY author, title\n",
    "        ORDER BY author, title\n",
    "        \"\"\").show()"
   ]
  },
  {
   "cell_type": "code",
   "execution_count": null,
   "metadata": {
    "collapsed": false
   },
   "outputs": [],
   "source": [
    "%%time\n",
    "tiny_df = pipeline.fit(tiny_df).transform(tiny_df)\n",
    "save_loc = \"data/sample_df.parquet\"\n",
    "tiny_df.write.mode('overwrite').save(save_loc, format=\"parquet\")"
   ]
  },
  {
   "cell_type": "markdown",
   "metadata": {},
   "source": [
    "# Create the Full Dataframe"
   ]
  },
  {
   "cell_type": "code",
   "execution_count": null,
   "metadata": {
    "collapsed": true
   },
   "outputs": [],
   "source": [
    "%%time\n",
    "\n",
    "# Word2Vec takes quite a while on my tiny computer!\n",
    "# CPU times: user 578 ms, sys: 358 ms, total: 936 ms\n",
    "# Wall time: 2h 12min 45s\n",
    "\n",
    "save_loc = \"data/data.parquet\"\n",
    "\n",
    "df_final = pipeline.fit(df).transform(df)\n",
    "df_final.write.mode('overwrite').save(save_loc, format=\"parquet\")\n",
    "\n",
    "# Consider: Add in spark sql querries for some of the more interesting columns (just for kicks)"
   ]
  },
  {
   "cell_type": "code",
   "execution_count": null,
   "metadata": {
    "collapsed": false
   },
   "outputs": [],
   "source": [
    "T = \"parquet.`data/data.parquet`\"\n",
    "\n",
    "spark.sql(\"\"\"\n",
    "        SELECT author_id, title\n",
    "             , words, tfidf, w2v_2D\n",
    "        FROM {}\n",
    "        LIMIT 5\n",
    "        \"\"\".format(T)).show()"
   ]
  },
  {
   "cell_type": "code",
   "execution_count": null,
   "metadata": {
    "collapsed": true
   },
   "outputs": [],
   "source": [
    "# create multiple dataframes:\n",
    "# tfidf_author\n",
    "# tfidf_title\n",
    "# w2v_author\n",
    "# w2v_title\n",
    "# w2v2d_author_title\n",
    "\n",
    "# ?include col w/ excerpt id?\n",
    "# # for quick look up of misclassified passages?"
   ]
  }
 ],
 "metadata": {
  "kernelspec": {
   "display_name": "py35",
   "language": "python",
   "name": "py35"
  },
  "language_info": {
   "codemirror_mode": {
    "name": "ipython",
    "version": 3
   },
   "file_extension": ".py",
   "mimetype": "text/x-python",
   "name": "python",
   "nbconvert_exporter": "python",
   "pygments_lexer": "ipython3",
   "version": "3.5.2"
  }
 },
 "nbformat": 4,
 "nbformat_minor": 2
}
