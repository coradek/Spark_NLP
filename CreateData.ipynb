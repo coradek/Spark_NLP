{
 "cells": [
  {
   "cell_type": "markdown",
   "metadata": {},
   "source": [
    "## This Notebook Creates Data for the Spark NLP project:\n",
    "\n",
    "This notebook provides an alternate way to get the data required for this project.\n",
    "Running all cells in this notebook is equivalent to running \n",
    "\n",
    "``` $ python src/data_setup.py ```\n",
    "\n",
    "from the command line. The notebook also provides a preview of some of the data."
   ]
  },
  {
   "cell_type": "markdown",
   "metadata": {},
   "source": [
    "### Description of the Data:\n",
    "\n",
    "The data consists of sections from the texts contained in 'data/books'.\n",
    "\n",
    "Each book is divided into paragraphs and the paragraphs are then grouped into sections of no less than 200 words by default. This value may be changed below, or in the \"if \\__main\\__\" block of data_setup.py\n",
    "\n",
    "For my own information I put a double bar '||' between the natural paragraph breaks.\n",
    "\n",
    "* Feel free to add your own books. We recommend raiding Project Gutenberg.\n",
    "* Name text files you download in the form 'BookTitle_AuthorName.txt' \n",
    "* and add them to data/books. Then rerun this notebook.\n",
    "\n",
    "You will also need to open the text files in a text editor and remove the extraneous content at the beginning and end.\n"
   ]
  },
  {
   "cell_type": "code",
   "execution_count": 1,
   "metadata": {
    "collapsed": false
   },
   "outputs": [],
   "source": [
    "import json\n",
    "from src import data_setup as ds\n",
    "\n",
    "%autoreload 2"
   ]
  },
  {
   "cell_type": "markdown",
   "metadata": {},
   "source": [
    "#### Feel free to adjust the minimum word count for longer or shorter excerpts"
   ]
  },
  {
   "cell_type": "code",
   "execution_count": 2,
   "metadata": {
    "collapsed": false
   },
   "outputs": [],
   "source": [
    "minimum_word_count = 200\n",
    "ds.process_all('data/books', min_wc=minimum_word_count)"
   ]
  },
  {
   "cell_type": "code",
   "execution_count": 3,
   "metadata": {
    "collapsed": false
   },
   "outputs": [
    {
     "data": {
      "text/plain": [
       "9050"
      ]
     },
     "execution_count": 3,
     "metadata": {},
     "output_type": "execute_result"
    }
   ],
   "source": [
    "with open('data/data.json', 'r') as jf:\n",
    "    data = json.load(jf)\n",
    "len(data)\n",
    "\n",
    "# Output should be 9050"
   ]
  },
  {
   "cell_type": "code",
   "execution_count": 4,
   "metadata": {
    "collapsed": false
   },
   "outputs": [
    {
     "name": "stdout",
     "output_type": "stream",
     "text": [
      "author : \tCharlesDickens\n",
      "^^^^^^^^^\n",
      "excerpt : \tAnd he did it; yes, he did! The clock struck nine. No Bob. A quarter past. No Bob. He was full eighteen minutes and a half behind his time. Scrooge sat with his door wide open, that he might see him come into the tank. || His hat was off before he opened the door; his comforter too. He was on his stool in a jiffy; driving away with his pen, as if he were trying to overtake nine o'clock. || \"Hallo!\" growled Scrooge in his accustomed voice as near as he could feign it. \"What do you mean by coming here at this time of day?\" || \"I am very sorry, sir,\" said Bob. \"I _am_ behind my time.\" || \"You are!\" repeated Scrooge. \"Yes. I think you are. Step this way, sir, if you please.\" || \"It's only once a year, sir,\" pleaded Bob, appearing from the tank. \"It shall not be repeated. I was making rather merry yesterday, sir.\" || \"Now, I'll tell you what, my friend,\" said Scrooge. \"I am not going to stand this sort of thing any longer. And therefore,\" he continued, leaping from his stool, and giving Bob such a dig in the waistcoat that he staggered back into the tank again: \"and therefore I am about to raise your salary!\"\n",
      "^^^^^^^^^\n",
      "title : \tAChristmasCarol\n",
      "^^^^^^^^^\n",
      "#########\n",
      "author : \tCharlesDickens\n",
      "^^^^^^^^^\n",
      "excerpt : \tBob trembled, and got a little nearer to the ruler. He had a momentary idea of knocking Scrooge down with it, holding him, and calling to the people in the court for help and a strait-waistcoat. || \"A merry Christmas, Bob!\" said Scrooge with an earnestness that could not be mistaken, as he clapped him on the back. \"A merrier Christmas, Bob, my good fellow, than I have given you for many a year! I'll raise your salary, and endeavour to assist your struggling family, and we will discuss your affairs this very afternoon, over a Christmas bowl of smoking bishop, Bob! Make up the fires and buy another coal-scuttle before you dot another i, Bob Cratchit!\" || * * * * * || Scrooge was better than his word. He did it all, and infinitely more; and to Tiny Tim, who did NOT die, he was a second father. He became as good a friend, as good a master, and as good a man as the good old City knew, or any other good old city, town, or borough in the good old world. Some people laughed to see the alteration in him, but he let them laugh, and little heeded them; for he was wise enough to know that nothing ever happened on this globe, for good, at which some people did not have their fill of laughter in the outset; and, knowing that such as these would be blind anyway, he thought it quite as well that they should wrinkle up their eyes in grins as have the malady in less attractive forms. His own heart laughed: and that was quite enough for him. || He had no further intercourse with Spirits, but lived upon the Total-Abstinence Principle ever afterwards; and it was always said of him that he knew how to keep Christmas well, if any man alive possessed the knowledge. May that be truly said of us, and all of us! And so, as Tiny Tim observed, God bless Us, Every One!\n",
      "^^^^^^^^^\n",
      "title : \tAChristmasCarol\n",
      "^^^^^^^^^\n",
      "#########\n",
      "author : \tMarkTwain\n",
      "^^^^^^^^^\n",
      "excerpt : \tA CONNECTICUT YANKEE IN KING ARTHUR’S COURT ||  || A WORD OF EXPLANATION || It was in Warwick Castle that I came across the curious stranger whom I am going to talk about. He attracted me by three things: his candid simplicity, his marvelous familiarity with ancient armor, and the restfulness of his company--for he did all the talking. We fell together, as modest people will, in the tail of the herd that was being shown through, and he at once began to say things which interested me. As he talked along, softly, pleasantly, flowingly, he seemed to drift away imperceptibly out of this world and time, and into some remote era and old forgotten country; and so he gradually wove such a spell about me that I seemed to move among the specters and shadows and dust and mold of a gray antiquity, holding speech with a relic of it! Exactly as I would speak of my nearest personal friends or enemies, or my most familiar neighbors, he spoke of Sir Bedivere, Sir Bors de Ganis, Sir Launcelot of the Lake, Sir Galahad, and all the other great names of the Table Round--and how old, old, unspeakably old and faded and dry and musty and ancient he came to look as he went on! Presently he turned to me and said, just as one might speak of the weather, or any other common matter--\n",
      "^^^^^^^^^\n",
      "title : \tAConnecticutYankeeInKingArthursCourt\n",
      "^^^^^^^^^\n",
      "#########\n",
      "author : \tMarkTwain\n",
      "^^^^^^^^^\n",
      "excerpt : \t“You know about transmigration of souls; do you know about transposition of epochs--and bodies?” || I said I had not heard of it. He was so little interested--just as when people speak of the weather--that he did not notice whether I made him any answer or not. There was half a moment of silence, immediately interrupted by the droning voice of the salaried cicerone: || “Ancient hauberk, date of the sixth century, time of King Arthur and the Round Table; said to have belonged to the knight Sir Sagramor le Desirous; observe the round hole through the chain-mail in the left breast; can’t be accounted for; supposed to have been done with a bullet since invention of firearms--perhaps maliciously by Cromwell’s soldiers.” || My acquaintance smiled--not a modern smile, but one that must have gone out of general use many, many centuries ago--and muttered apparently to himself: || “Wit ye well, _I saw it done_.” Then, after a pause, added: “I did it myself.” || By the time I had recovered from the electric surprise of this remark, he was gone. || All that evening I sat by my fire at the Warwick Arms, steeped in a dream of the olden time, while the rain beat upon the windows, and the wind roared about the eaves and corners. From time to time I dipped into old Sir Thomas Malory’s enchanting book, and fed at its rich feast of prodigies and adventures, breathed in the fragrance of its obsolete names, and dreamed again. Midnight being come at length, I read another tale, for a nightcap--this which here follows, to wit:\n",
      "^^^^^^^^^\n",
      "title : \tAConnecticutYankeeInKingArthursCourt\n",
      "^^^^^^^^^\n",
      "#########\n"
     ]
    }
   ],
   "source": [
    "n = 120\n",
    "\n",
    "for d in data[n:n+4]:\n",
    "    for k,v in d.iteritems():\n",
    "        print k, ': \\t', v\n",
    "        print '^^^^^^^^^'\n",
    "    print '#########'\n",
    "\n",
    "# Should show two excerpts from 'A Christmas Carol' \n",
    "# and two excerpts from 'A Connecticut Yankee In King Arthur's Court"
   ]
  },
  {
   "cell_type": "code",
   "execution_count": null,
   "metadata": {
    "collapsed": true
   },
   "outputs": [],
   "source": []
  }
 ],
 "metadata": {
  "anaconda-cloud": {},
  "kernelspec": {
   "display_name": "Python 2",
   "language": "python",
   "name": "python2"
  },
  "language_info": {
   "codemirror_mode": {
    "name": "ipython",
    "version": 2
   },
   "file_extension": ".py",
   "mimetype": "text/x-python",
   "name": "python",
   "nbconvert_exporter": "python",
   "pygments_lexer": "ipython2",
   "version": "2.7.12"
  }
 },
 "nbformat": 4,
 "nbformat_minor": 0
}
