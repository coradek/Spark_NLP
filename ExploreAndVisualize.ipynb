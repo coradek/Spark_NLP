{
 "cells": [
  {
   "cell_type": "code",
   "execution_count": 2,
   "metadata": {
    "collapsed": false
   },
   "outputs": [],
   "source": [
    "from __future__ import division\n",
    "import pandas as pd\n",
    "import numpy as np\n",
    "\n",
    "# from pyspark.sql.functions import udf\n",
    "# from pyspark.sql.types import ArrayType, StringType, FloatType\n",
    "from pyspark.sql.functions import mean as sql_mean\n",
    "\n",
    "# from nltk.corpus import stopwords\n",
    "# from nltk.tokenize import word_tokenize\n",
    "\n",
    "from wordcloud import WordCloud, STOPWORDS\n",
    "from PIL import Image\n",
    "import colorsys\n",
    "import random\n",
    "\n",
    "import matplotlib.pyplot as plt\n",
    "% matplotlib inline"
   ]
  },
  {
   "cell_type": "markdown",
   "metadata": {},
   "source": [
    "## Now that our database is saved as a parquet, we can query it directly"
   ]
  },
  {
   "cell_type": "code",
   "execution_count": 5,
   "metadata": {
    "collapsed": false,
    "scrolled": false
   },
   "outputs": [
    {
     "name": "stdout",
     "output_type": "stream",
     "text": [
      "+--------------+--------------------+--------------------+\n",
      "|        author|           tokenized|                 w2v|\n",
      "+--------------+--------------------+--------------------+\n",
      "|CharlesDickens|[a, christmas, ca...|[-0.1702252033501...|\n",
      "|CharlesDickens|[mind, i, dont, m...|[-0.2174013902028...|\n",
      "|CharlesDickens|[scrooge, never, ...|[-0.1526826002821...|\n",
      "|CharlesDickens|[nobody, ever, st...|[-0.1897002885570...|\n",
      "|CharlesDickens|[the, door, of, s...|[-0.1829826451034...|\n",
      "|CharlesDickens|[i, do, said, scr...|[-0.2629524400289...|\n",
      "|CharlesDickens|[uncle, pleaded, ...|[-0.2502119612455...|\n",
      "|CharlesDickens|[the, clerk, in, ...|[-0.2832240152638...|\n",
      "|CharlesDickens|[i, am, sorry, wi...|[-0.1989532466069...|\n",
      "|CharlesDickens|[mr, marley, has,...|[-0.2183633688141...|\n",
      "+--------------+--------------------+--------------------+\n",
      "\n"
     ]
    }
   ],
   "source": [
    "# Use formatting to set table name\n",
    "\n",
    "table = \"parquet.`data/excerpt_df.parquet`\"\n",
    "\n",
    "spark.sql('''\n",
    "    SELECT author, tokenized, w2v \n",
    "    FROM {}\n",
    "    LIMIT 10\n",
    "    '''.format(table)).show()"
   ]
  },
  {
   "cell_type": "markdown",
   "metadata": {},
   "source": [
    "## Make Plotting Functions"
   ]
  },
  {
   "cell_type": "code",
   "execution_count": 14,
   "metadata": {
    "collapsed": true
   },
   "outputs": [],
   "source": [
    "# thankyou nick for the plotting code\n",
    "# rework further in my own sparky style \n",
    "\n",
    "def make_plots(DFs, col, bins, title, colors, x_lab, authors, x_lim=None, y_lim=None):\n",
    "    plt.subplots(4,4,sharex=True, sharey=True, figsize=(10,10))\n",
    "    plt.tight_layout()\n",
    "    plt.subplots_adjust(top=0.94)\n",
    "    plt.suptitle(title, fontsize=18)\n",
    "    for i, DF in enumerate(DFs):\n",
    "        make_hist(DF, col, bins, colors[i], x_lim, y_lim, i, x_lab, authors[i])\n",
    "    \n",
    "    \n",
    "def make_hist(DF, col, bins, color, x_lim, y_lim, i, x_lab, author):\n",
    "    # Create pandas DF of bins and counts\n",
    "    temp_df = DF.select(col).toPandas()\n",
    "    plt.subplot(2,2,i+1)\n",
    "    plt.hist(temp_df[col], bins, normed=1, color=color, \n",
    "             alpha=0.4, label=author)\n",
    "    # Find mean sentence length\n",
    "    x_val = DF.select(sql_mean(col)).select('avg('+col+')').head()[0]\n",
    "    plt.axvline(x=x_val, color=color, label=\"Mean\", linewidth=1.5)\n",
    "    plt.xlabel(x_lab)\n",
    "    plt.ylabel(\"Frequency\")\n",
    "    plt.xlim(x_lim)\n",
    "    plt.ylim(y_lim)\n",
    "    plt.legend();"
   ]
  },
  {
   "cell_type": "code",
   "execution_count": 4,
   "metadata": {
    "collapsed": false
   },
   "outputs": [],
   "source": [
    "def metadata_df(author):\n",
    "    author = \"'\" + author + \"'\"\n",
    "    return spark.sql('''\n",
    "        SELECT char_count, avg_wordlen, word_count, sent_length \n",
    "        FROM {} \n",
    "        WHERE author = {} AND sent_length <=100\n",
    "        '''.format(table, author))\n",
    "\n",
    "\n",
    "\n",
    "twaindf = metadata_df('MarkTwain')\n",
    "muirdf = metadata_df('JohnMuir')\n",
    "austendf = metadata_df('JaneAusten')\n",
    "dickensdf = metadata_df('CharlesDickens')\n"
   ]
  },
  {
   "cell_type": "code",
   "execution_count": null,
   "metadata": {
    "collapsed": false
   },
   "outputs": [],
   "source": [
    "twaindf.show(5)"
   ]
  },
  {
   "cell_type": "markdown",
   "metadata": {},
   "source": [
    "## Plot Metadata"
   ]
  },
  {
   "cell_type": "code",
   "execution_count": 15,
   "metadata": {
    "collapsed": false
   },
   "outputs": [
    {
     "data": {
      "image/png": "[encoded data removed]",
      "text/plain": [
       "<matplotlib.figure.Figure at 0x11b61f450>"
      ]
     },
     "metadata": {},
     "output_type": "display_data"
    }
   ],
   "source": [
    "DFs = [twaindf, muirdf, austendf, dickensdf]\n",
    "authors = [\"Twain\", \"Muir\", \"Dickens\", \"Austen\"]\n",
    "colors = [[0.1, 0.3, .9], [0.1, 0.75, 0.55], [0.9, 0.2, 0.1], [0.5, 0.2, 0.9]]\n",
    "\n",
    "# Make Sentence Length Histograms\n",
    "make_plots(DFs=DFs, col='sent_length', bins=75, title='Sentence Length by Author',\n",
    "           colors=colors, x_lim=(0,60), y_lim=(0, 0.08), x_lab=\"Word Count per Sentence\", authors=authors)\n",
    "plt.savefig('data/images/sent_len.png', bbox_inches='tight')"
   ]
  },
  {
   "cell_type": "markdown",
   "metadata": {},
   "source": [
    "## Build Word Clouds:"
   ]
  },
  {
   "cell_type": "code",
   "execution_count": 3,
   "metadata": {
    "collapsed": true
   },
   "outputs": [],
   "source": [
    "def get_all_text(author, table=\"parquet.`data/excerpt_df.parquet`\"):\n",
    "    author = \"'\" + author + \"'\"  \n",
    "    excerpts = spark.sql('''\n",
    "        SELECT excerpt\n",
    "        FROM {}\n",
    "        WHERE author = {}\n",
    "        '''.format(table, author))\n",
    "    \n",
    "\n",
    "    return ' '.join([str(e) for e in excerpts.collect()])\n",
    "\n",
    "\n",
    "\n"
   ]
  },
  {
   "cell_type": "code",
   "execution_count": 30,
   "metadata": {
    "collapsed": false
   },
   "outputs": [
    {
     "data": {
      "text/plain": [
       "pyspark.sql.dataframe.DataFrame"
      ]
     },
     "execution_count": 30,
     "metadata": {},
     "output_type": "execute_result"
    }
   ],
   "source": [
    "excerpts = spark.sql('''\n",
    "    SELECT words_only\n",
    "    FROM {}\n",
    "    WHERE author = {}\n",
    "    '''.format(table, \"'MarkTwain'\"))\n",
    "\n",
    "type(excerpts)\n",
    "\n",
    "# alltext = ' '.join([str(e) for e in excerpts.excerpt])"
   ]
  },
  {
   "cell_type": "code",
   "execution_count": 8,
   "metadata": {
    "collapsed": false
   },
   "outputs": [
    {
     "name": "stdout",
     "output_type": "stream",
     "text": [
      "+--------------------+\n",
      "|          words_only|\n",
      "+--------------------+\n",
      "|A CONNECTICUT YAN...|\n",
      "|“You know about t...|\n",
      "|HOW SIR LAUNCELOT...|\n",
      "|And then they all...|\n",
      "|As I laid the boo...|\n",
      "|Well a man like t...|\n",
      "|“Fair sir will ye...|\n",
      "|“Bridgeport” said...|\n",
      "|  THE TALE OF THE...|\n",
      "|As we approached ...|\n",
      "+--------------------+\n",
      "\n"
     ]
    }
   ],
   "source": [
    "spark.sql('''\n",
    "    SELECT words_only\n",
    "    FROM {}\n",
    "    WHERE author = {}\n",
    "    LIMIT 10\n",
    "    '''.format(table, \"'MarkTwain'\")).show()"
   ]
  },
  {
   "cell_type": "code",
   "execution_count": 37,
   "metadata": {
    "collapsed": false
   },
   "outputs": [
    {
     "name": "stdout",
     "output_type": "stream",
     "text": [
      "“Fair sir will ye just” said this fellow  “Will I which”  “Will ye try a passage of arms for land or lady or for”  “What are you giving me” I said “Get along back to your circus or I’ll report you”  Now what does this man do but fall back a couple of hundred yards and then come rushing at me as hard as he could tear with his nailkeg bent down nearly to his horse’s neck and his long spear pointed straight ahead I saw he meant business so I was up the tree when he arrived  He allowed that I was his property the captive of his spear There was argument on his sideand the bulk of the advantage so I judged it best to humor him We fixed up an agreement whereby I was to go with him and he was not to hurt me I came down and we started away I walking by the side of his horse We marched comfortably along through glades and over brooks which I could not remember to have seen beforewhich puzzled me and made me wonderand yet we did not come to any circus or sign of a circus So I gave up the idea of a circus and concluded he was from an asylum But we never came to an asylumso I was up a stump as you may say I asked him how far we were from Hartford He said he had never heard of the place which I took to be a lie but allowed it to go at that At the end of an hour we saw a faraway town sleeping in a valley by a winding river and beyond it on a hill a vast gray fortress with towers and turrets the first I had ever seen out of a picture\n",
      "\n",
      "Row(words_only=u'\\u201cFair sir will ye just\\u201d said this fellow  \\u201cWill I which\\u201d  \\u201cWill ye try a passage of arms for land or lady or for\\u201d  \\u201cWhat are you giving me\\u201d I said \\u201cGet along back to your circus or I\\u2019ll report you\\u201d  Now what does this man do but fall back a couple of hundred yards and then come rushing at me as hard as he could tear with his nailkeg bent down nearly to his horse\\u2019s neck and his long spear pointed straight ahead I saw he meant business so I was up the tree when he arrived  He allowed that I was his property the captive of his spear There was argument on his sideand the bulk of the advantage so I judged it best to humor him We fixed up an agreement whereby I was to go with him and he was not to hurt me I came down and we started away I walking by the side of his horse We marched comfortably along through glades and over brooks which I could not remember to have seen beforewhich puzzled me and made me wonderand yet we did not come to any circus or sign of a circus So I gave up the idea of a circus and concluded he was from an asylum But we never came to an asylumso I was up a stump as you may say I asked him how far we were from Hartford He said he had never heard of the place which I took to be a lie but allowed it to go at that At the end of an hour we saw a faraway town sleeping in a valley by a winding river and beyond it on a hill a vast gray fortress with towers and turrets the first I had ever seen out of a picture')\n"
     ]
    }
   ],
   "source": [
    "print excerpts.collect()[6][0]\n",
    "print\n",
    "print excerpts.collect()[6]"
   ]
  },
  {
   "cell_type": "code",
   "execution_count": 33,
   "metadata": {
    "collapsed": false
   },
   "outputs": [
    {
     "ename": "TypeError",
     "evalue": "ord() expected a character, but string of length 3 found",
     "output_type": "error",
     "traceback": [
      "\u001b[0;31m-------------------------------------------------------------------\u001b[0m",
      "\u001b[0;31mTypeError\u001b[0m                         Traceback (most recent call last)",
      "\u001b[0;32m<ipython-input-33-1dba26a18285>\u001b[0m in \u001b[0;36m<module>\u001b[0;34m()\u001b[0m\n\u001b[0;32m----> 1\u001b[0;31m \u001b[0mord\u001b[0m\u001b[0;34m(\u001b[0m\u001b[0;34m\"“\"\u001b[0m\u001b[0;34m)\u001b[0m\u001b[0;34m\u001b[0m\u001b[0m\n\u001b[0m",
      "\u001b[0;31mTypeError\u001b[0m: ord() expected a character, but string of length 3 found"
     ]
    }
   ],
   "source": [
    "ord(\"“\")"
   ]
  },
  {
   "cell_type": "code",
   "execution_count": 34,
   "metadata": {
    "collapsed": false
   },
   "outputs": [
    {
     "ename": "TypeError",
     "evalue": "an integer is required",
     "output_type": "error",
     "traceback": [
      "\u001b[0;31m-------------------------------------------------------------------\u001b[0m",
      "\u001b[0;31mTypeError\u001b[0m                         Traceback (most recent call last)",
      "\u001b[0;32m<ipython-input-34-905cd16cc049>\u001b[0m in \u001b[0;36m<module>\u001b[0;34m()\u001b[0m\n\u001b[0;32m----> 1\u001b[0;31m \u001b[0mchr\u001b[0m\u001b[0;34m(\u001b[0m\u001b[0;34m'\\u201d'\u001b[0m\u001b[0;34m)\u001b[0m\u001b[0;34m\u001b[0m\u001b[0m\n\u001b[0m",
      "\u001b[0;31mTypeError\u001b[0m: an integer is required"
     ]
    }
   ],
   "source": [
    "chr('\\u201d')"
   ]
  },
  {
   "cell_type": "code",
   "execution_count": null,
   "metadata": {
    "collapsed": true
   },
   "outputs": [],
   "source": []
  }
 ],
 "metadata": {
  "anaconda-cloud": {},
  "kernelspec": {
   "display_name": "Python 2",
   "language": "python",
   "name": "python2"
  },
  "language_info": {
   "codemirror_mode": {
    "name": "ipython",
    "version": 2
   },
   "file_extension": ".py",
   "mimetype": "text/x-python",
   "name": "python",
   "nbconvert_exporter": "python",
   "pygments_lexer": "ipython2",
   "version": "2.7.12"
  }
 },
 "nbformat": 4,
 "nbformat_minor": 0
}
