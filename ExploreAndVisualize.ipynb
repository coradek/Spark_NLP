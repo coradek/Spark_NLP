{
 "cells": [
  {
   "cell_type": "code",
   "execution_count": 12,
   "metadata": {
    "collapsed": false
   },
   "outputs": [],
   "source": [
    "from __future__ import division\n",
    "# import pyspark as ps    # import the spark suite\n",
    "# import warnings         # display warning if spark context already exists\n",
    "# import os\n",
    "import pandas as pd\n",
    "import numpy as np\n",
    "\n",
    "# from pyspark.sql.functions import udf\n",
    "# from pyspark.sql.types import ArrayType, StringType, FloatType\n",
    "from pyspark.sql.functions import mean as sql_mean\n",
    "\n",
    "# from nltk.corpus import stopwords\n",
    "# from nltk.tokenize import word_tokenize\n",
    "\n",
    "from wordcloud import WordCloud, STOPWORDS\n",
    "from PIL import Image\n",
    "import colorsys\n",
    "import random\n",
    "\n",
    "import matplotlib.pyplot as plt\n",
    "% matplotlib inline"
   ]
  },
  {
   "cell_type": "markdown",
   "metadata": {},
   "source": [
    "## Now that our database is saved as a parquet, we can query it directly"
   ]
  },
  {
   "cell_type": "code",
   "execution_count": 2,
   "metadata": {
    "collapsed": false,
    "scrolled": false
   },
   "outputs": [
    {
     "name": "stdout",
     "output_type": "stream",
     "text": [
      "+--------------+--------------------+--------------------+\n",
      "|        author|           tokenized|                 w2v|\n",
      "+--------------+--------------------+--------------------+\n",
      "|CharlesDickens|[a, christmas, ca...|[-0.1702252033501...|\n",
      "|CharlesDickens|[mind, i, dont, m...|[-0.2174013902028...|\n",
      "|CharlesDickens|[scrooge, never, ...|[-0.1526826002821...|\n",
      "|CharlesDickens|[nobody, ever, st...|[-0.1897002885570...|\n",
      "|CharlesDickens|[the, door, of, s...|[-0.1829826451034...|\n",
      "|CharlesDickens|[i, do, said, scr...|[-0.2629524400289...|\n",
      "|CharlesDickens|[uncle, pleaded, ...|[-0.2502119612455...|\n",
      "|CharlesDickens|[the, clerk, in, ...|[-0.2832240152638...|\n",
      "|CharlesDickens|[i, am, sorry, wi...|[-0.1989532466069...|\n",
      "|CharlesDickens|[mr, marley, has,...|[-0.2183633688141...|\n",
      "+--------------+--------------------+--------------------+\n",
      "\n"
     ]
    }
   ],
   "source": [
    "# Use formatting to set table name\n",
    "\n",
    "table = \"parquet.`data/excerpt_df.parquet`\"\n",
    "\n",
    "spark.sql('''\n",
    "    SELECT author, tokenized, w2v \n",
    "    FROM {}\n",
    "    LIMIT 10\n",
    "    '''.format(table)).show()"
   ]
  },
  {
   "cell_type": "markdown",
   "metadata": {},
   "source": [
    "## Create Plots of each Author's text meta data"
   ]
  },
  {
   "cell_type": "code",
   "execution_count": 8,
   "metadata": {
    "collapsed": true
   },
   "outputs": [],
   "source": [
    "# thankyou nick for the plotting code\n",
    "# rework further in my own sparky style \n",
    "\n",
    "def make_plots(DFs, col, bins, title, colors, x_lab, authors, x_lim=None, y_lim=None):\n",
    "    plt.subplots(4,4,sharex=True, sharey=True, figsize=(8,8))\n",
    "    plt.tight_layout()\n",
    "    plt.subplots_adjust(top=0.92)\n",
    "    plt.suptitle(title, fontsize=18)\n",
    "    for i, DF in enumerate(DFs):\n",
    "        make_hist(DF, col, bins, colors[i], x_lim, y_lim, i, x_lab, authors[i])\n",
    "    \n",
    "    \n",
    "def make_hist(DF, col, bins, color, x_lim, y_lim, i, x_lab, author):\n",
    "    # Create pandas DF of bins and counts\n",
    "    temp_df = DF.select(col).toPandas()\n",
    "    plt.subplot(2,2,i+1)\n",
    "    plt.hist(temp_df[col], bins, normed=1, color=color, \n",
    "             alpha=0.8, label=author)\n",
    "    # Find mean sentence length\n",
    "    x_val = DF.select(sql_mean(col)).select('avg('+col+')').head()[0]\n",
    "    plt.axvline(x=x_val, color=color, label=\"Mean\")\n",
    "    plt.xlabel(x_lab)\n",
    "    plt.ylabel(\"Frequency\")\n",
    "    plt.xlim(x_lim)\n",
    "    plt.ylim(y_lim)\n",
    "    plt.legend();"
   ]
  },
  {
   "cell_type": "code",
   "execution_count": 9,
   "metadata": {
    "collapsed": false
   },
   "outputs": [],
   "source": [
    "def metadata_df(author):\n",
    "    author = \"'\" + author + \"'\"\n",
    "    return spark.sql('''\n",
    "        SELECT char_count, avg_wordlen, word_count, sent_length \n",
    "        FROM {} \n",
    "        WHERE author = {} AND sent_length <=100\n",
    "        '''.format(table, author))\n",
    "\n",
    "\n",
    "\n",
    "twaindf = metadata_df('MarkTwain')\n",
    "muirdf = metadata_df('JohnMuir')\n",
    "austendf = metadata_df('JaneAusten')\n",
    "dickensdf = metadata_df('CharlesDickens')\n"
   ]
  },
  {
   "cell_type": "code",
   "execution_count": 10,
   "metadata": {
    "collapsed": false
   },
   "outputs": [
    {
     "name": "stdout",
     "output_type": "stream",
     "text": [
      "+----------+-----------+----------+-----------+\n",
      "|char_count|avg_wordlen|word_count|sent_length|\n",
      "+----------+-----------+----------+-----------+\n",
      "|    1275.0|   4.425532|     235.0|  39.166668|\n",
      "|    1529.0|   4.687732|     269.0|       27.3|\n",
      "|    3034.0|   4.188034|     585.0|  27.857143|\n",
      "|    1574.0|  3.9684544|     317.0|  28.818182|\n",
      "|    1211.0|   4.454955|     222.0|  20.181818|\n",
      "+----------+-----------+----------+-----------+\n",
      "only showing top 5 rows\n",
      "\n"
     ]
    }
   ],
   "source": [
    "twaindf.show(5)"
   ]
  },
  {
   "cell_type": "code",
   "execution_count": 14,
   "metadata": {
    "collapsed": false
   },
   "outputs": [
    {
     "data": {
      "image/png": "[encoded data removed]",
      "text/plain": [
       "<matplotlib.figure.Figure at 0x119e573d0>"
      ]
     },
     "metadata": {},
     "output_type": "display_data"
    }
   ],
   "source": [
    "DFs = [twaindf, muirdf, austendf, dickensdf]\n",
    "authors = [\"Twain\", \"Muir\", \"Dickens\", \"Austen\"]\n",
    "colors = [[0.1, 0.3, .9], [0.1, 0.75, 0.55], [0.9, 0.2, 0.1], [0.5, 0.2, 0.9]]\n",
    "\n",
    "# Make Sentence Length Histograms\n",
    "make_plots(DFs=DFs, col='sent_length', bins=75, title='Sentence Length by Author',\n",
    "           colors=colors, x_lim=(0,60), y_lim=(0, 0.08), x_lab=\"Word Count per Sentence\", authors=authors)\n",
    "plt.savefig('data/images/sent_len.png', bbox_inches='tight')"
   ]
  },
  {
   "cell_type": "markdown",
   "metadata": {},
   "source": [
    "## Build Word Clouds:"
   ]
  },
  {
   "cell_type": "code",
   "execution_count": null,
   "metadata": {
    "collapsed": true
   },
   "outputs": [],
   "source": [
    "def get_all_text(author, table=\"parquet.`data/excerpt_df.parquet`\"):\n",
    "    author = \"'\" + author + \"'\"  \n",
    "    excerpts = spark.sql('''\n",
    "        SELECT excerpt\n",
    "        FROM {}\n",
    "        WHERE author = {}\n",
    "        '''.format(table, author))\n",
    "\n",
    "    return \n",
    "\n",
    "\n",
    "\n"
   ]
  },
  {
   "cell_type": "code",
   "execution_count": 18,
   "metadata": {
    "collapsed": false
   },
   "outputs": [
    {
     "ename": "TypeError",
     "evalue": "Column is not iterable",
     "output_type": "error",
     "traceback": [
      "\u001b[0;31m-------------------------------------------------------------------\u001b[0m",
      "\u001b[0;31mTypeError\u001b[0m                         Traceback (most recent call last)",
      "\u001b[0;32m<ipython-input-18-fc869cf4c9db>\u001b[0m in \u001b[0;36m<module>\u001b[0;34m()\u001b[0m\n\u001b[1;32m      5\u001b[0m     '''.format(table, \"'MarkTwain'\"))\n\u001b[1;32m      6\u001b[0m \u001b[0;34m\u001b[0m\u001b[0m\n\u001b[0;32m----> 7\u001b[0;31m \u001b[0malltext\u001b[0m \u001b[0;34m=\u001b[0m \u001b[0;34m' '\u001b[0m\u001b[0;34m.\u001b[0m\u001b[0mjoin\u001b[0m\u001b[0;34m(\u001b[0m\u001b[0;34m[\u001b[0m\u001b[0mstr\u001b[0m\u001b[0;34m(\u001b[0m\u001b[0me\u001b[0m\u001b[0;34m)\u001b[0m \u001b[0;32mfor\u001b[0m \u001b[0me\u001b[0m \u001b[0;32min\u001b[0m \u001b[0mexcerpts\u001b[0m\u001b[0;34m.\u001b[0m\u001b[0mexcerpt\u001b[0m\u001b[0;34m]\u001b[0m\u001b[0;34m)\u001b[0m\u001b[0;34m\u001b[0m\u001b[0m\n\u001b[0m",
      "\u001b[0;32m/usr/local/Cellar/apache-spark/2.0.1/libexec/python/pyspark/sql/column.pyc\u001b[0m in \u001b[0;36m__iter__\u001b[0;34m(self)\u001b[0m\n\u001b[1;32m    238\u001b[0m \u001b[0;34m\u001b[0m\u001b[0m\n\u001b[1;32m    239\u001b[0m     \u001b[0;32mdef\u001b[0m \u001b[0m__iter__\u001b[0m\u001b[0;34m(\u001b[0m\u001b[0mself\u001b[0m\u001b[0;34m)\u001b[0m\u001b[0;34m:\u001b[0m\u001b[0;34m\u001b[0m\u001b[0m\n\u001b[0;32m--> 240\u001b[0;31m         \u001b[0;32mraise\u001b[0m \u001b[0mTypeError\u001b[0m\u001b[0;34m(\u001b[0m\u001b[0;34m\"Column is not iterable\"\u001b[0m\u001b[0;34m)\u001b[0m\u001b[0;34m\u001b[0m\u001b[0m\n\u001b[0m\u001b[1;32m    241\u001b[0m \u001b[0;34m\u001b[0m\u001b[0m\n\u001b[1;32m    242\u001b[0m     \u001b[0;31m# string methods\u001b[0m\u001b[0;34m\u001b[0m\u001b[0;34m\u001b[0m\u001b[0m\n",
      "\u001b[0;31mTypeError\u001b[0m: Column is not iterable"
     ]
    }
   ],
   "source": [
    "excerpts = spark.sql('''\n",
    "    SELECT excerpt\n",
    "    FROM {}\n",
    "    WHERE author = {}\n",
    "    '''.format(table, \"'MarkTwain'\"))\n",
    "\n",
    "alltext = ' '.join([str(e) for e in excerpts.excerpt])"
   ]
  },
  {
   "cell_type": "code",
   "execution_count": 17,
   "metadata": {
    "collapsed": false
   },
   "outputs": [
    {
     "name": "stdout",
     "output_type": "stream",
     "text": [
      "Column<excerpt>\n"
     ]
    }
   ],
   "source": [
    "print alltext[:5000]"
   ]
  },
  {
   "cell_type": "code",
   "execution_count": null,
   "metadata": {
    "collapsed": true
   },
   "outputs": [],
   "source": []
  }
 ],
 "metadata": {
  "anaconda-cloud": {},
  "kernelspec": {
   "display_name": "Python 2",
   "language": "python",
   "name": "python2"
  },
  "language_info": {
   "codemirror_mode": {
    "name": "ipython",
    "version": 2
   },
   "file_extension": ".py",
   "mimetype": "text/x-python",
   "name": "python",
   "nbconvert_exporter": "python",
   "pygments_lexer": "ipython2",
   "version": "2.7.12"
  }
 },
 "nbformat": 4,
 "nbformat_minor": 0
}
