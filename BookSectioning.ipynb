{
 "cells": [
  {
   "cell_type": "code",
   "execution_count": 64,
   "metadata": {
    "collapsed": false
   },
   "outputs": [],
   "source": [
    "def _paragraphs(book):\n",
    "    # return list of paragraphs\n",
    "    with open(book, 'r') as f:\n",
    "        text = f.read()\n",
    "        paras = text.split('\\r\\n\\r\\n') # list of paragraphs\n",
    "\n",
    "        # remove extra new lines\n",
    "        for i, para in enumerate(paras):\n",
    "            paras[i] = ' '.join(para.split())\n",
    "            \n",
    "    return paras\n",
    "    \n",
    "    \n",
    "def _wordcount(paragraph):\n",
    "    # paragraph word count\n",
    "    return len(paragraph.split())\n",
    "    \n",
    "\n",
    "def _sectionize(paragraph_list, min_wc=200):\n",
    "    # return multi-paragraph sections with minimum word count = min_wc\n",
    "    sections = [paragraph_list[0]]\n",
    "    for paragraph in paragraph_list[1:]:\n",
    "        if _wordcount(sections[-1]) < min_wc:\n",
    "            sections[-1] += ' || ' + paragraph\n",
    "        else:\n",
    "            sections.append(paragraph)\n",
    "\n",
    "    if _wordcount(sections[-1]) < min_wc:\n",
    "        temp = sections.pop()\n",
    "        sections[-1] += ' || ' + temp\n",
    "        \n",
    "    return sections\n",
    "\n",
    "\n",
    "def process_book(book, min_wc = 200):\n",
    "    # return list of dictionaries containing book title, author and a section of text\n",
    "    \n",
    "    result = []\n",
    "    \n",
    "    author = book.split('_')[1][:-4]\n",
    "    title = book.split('_')[0].split('/')[-1]\n",
    "    \n",
    "    paragraphs = _paragraphs(book)\n",
    "    sections = _sectionize(paragraphs, min_wc=min_wc)\n",
    "    \n",
    "    for sec in sections:\n",
    "        ddd = {}\n",
    "        ddd['author'] = author\n",
    "        ddd['title'] = title\n",
    "        ddd['text_blob'] = sec\n",
    "        result.append(ddd)\n",
    "    \n",
    "    return result\n",
    "        \n"
   ]
  },
  {
   "cell_type": "code",
   "execution_count": 65,
   "metadata": {
    "collapsed": false
   },
   "outputs": [
    {
     "name": "stdout",
     "output_type": "stream",
     "text": [
      "CharlesDickens \tAChristmasCarol\n",
      "MarkTwain \tAConnecticutYankeeInKingArthursCourt\n",
      "CharlesDickens \tATaleOfTwoCities\n",
      "CharlesDickens \tDavidCopperfield\n",
      "JaneAusten \tEmma\n",
      "CharlesDickens \tGreatExpectations\n",
      "JaneAusten \tMansfieldPark\n",
      "JohnMuir \tMyFirstSummerInTheSierra\n",
      "CharlesDickens \tOliverTwist\n",
      "JaneAusten \tPersuasion\n",
      "JaneAusten \tPrideAndPrejudice\n",
      "MarkTwain \tRoughingIt\n",
      "JaneAusten \tSenseAndSensibility\n",
      "JohnMuir \tStickeen\n",
      "MarkTwain \tTheAdventuresOfHuckleberryFinn\n",
      "MarkTwain \tTheInnocentsAbroad\n",
      "JohnMuir \tTheStoryofMyBoyhoodAndYouth\n",
      "MarkTwain \tTheTragedyofPuddnheadWilson\n",
      "JohnMuir \tTheYosemite\n",
      "JohnMuir \tTravelsInAlaska\n"
     ]
    }
   ],
   "source": [
    "for book in os.listdir('data'):\n",
    "    author = book.split('_')[1][:-4]\n",
    "    title = book.split('_')[0]\n",
    "    print author, '\\t', title \n",
    "    "
   ]
  },
  {
   "cell_type": "code",
   "execution_count": 66,
   "metadata": {
    "collapsed": false
   },
   "outputs": [
    {
     "name": "stdout",
     "output_type": "stream",
     "text": [
      "{'text_blob': 'A CHRISTMAS CAROL || STAVE PAGE || I _Marley\\'s Ghost_ 11 II _The First of the Three Spirits_ 32 III _The Second of the Three Spirits_ 51 IV _The Last of the Spirits_ 76 V _The End of it_ 93 ||  || ILLUSTRATIONS || A CHRISTMAS CAROL || _\"He had been Tim\\'s blood horse all the way from church.\"_ Frontispiece || _\"A Merry Christmas, Uncle! God save you!\" cried a cheerful voice._ 14 || _To sit staring at those fixed glazed eyes in silence, for a moment, would play, Scrooge felt, the very deuce with him._ 26 || _\"You recollect the way?\" inquired the spirit. \"Remember it!\" cried Scrooge, with fervour; \"I could walk it blindfold.\"_ 36 || _\"Why, it\\'s Ali Baba!\" Scrooge exclaimed in ecstasy. \"It\\'s dear old honest Ali Baba!\"_ 38 ||  || A CHRISTMAS CAROL || In Prose || BEING A GHOST STORY OF CHRISTMAS ||  || STAVE ONE || MARLEY\\'S GHOST || Marley was dead, to begin with. There is no doubt whatever about that. The register of his burial was signed by the clergyman, the clerk, the undertaker, and the chief mourner. Scrooge signed it. And Scrooge\\'s name was good upon \\'Change for anything he chose to put his hand to. Old Marley was as dead as a door-nail.', 'title': 'AChristmasCarol', 'author': 'CharlesDickens'}\n",
      "^^^^^^^^^\n",
      "^^^^^^^^^\n",
      "{'text_blob': \"Mind! I don't mean to say that I know, of my own knowledge, what there is particularly dead about a door-nail. I might have been inclined, myself, to regard a coffin-nail as the deadest piece of ironmongery in the trade. But the wisdom of our ancestors is in the simile; and my unhallowed hands shall not disturb it, or the Country's done for. You will, therefore, permit me to repeat, emphatically, that Marley was as dead as a door-nail. || Scrooge knew he was dead? Of course he did. How could it be otherwise? Scrooge and he were partners for I don't know how many years. Scrooge was his sole executor, his sole administrator, his sole assign, his sole residuary legatee, his sole friend, and sole mourner. And even Scrooge was not so dreadfully cut up by the sad event, but that he was an excellent man of business on the very day of the funeral, and solemnised it with an undoubted bargain. || The mention of Marley's funeral brings me back to the point I started from. There is no doubt that Marley was dead. This must be distinctly understood, or nothing wonderful can come of the story I am going to relate. If we were not perfectly convinced that Hamlet's Father died before the play began, there would be nothing more remarkable in his taking a stroll at night, in an easterly wind, upon his own ramparts, than there would be in any other middle-aged gentleman rashly turning out after dark in a breezy spot--say St. Paul's Church-yard, for instance--literally to astonish his son's weak mind.\", 'title': 'AChristmasCarol', 'author': 'CharlesDickens'}\n",
      "^^^^^^^^^\n",
      "^^^^^^^^^\n",
      "{'text_blob': 'Scrooge never painted out Old Marley\\'s name. There it stood, years afterwards, above the warehouse door: Scrooge and Marley. The firm was known as Scrooge and Marley. Sometimes people new to the business called Scrooge Scrooge, and sometimes Marley, but he answered to both names. It was all the same to him. || Oh! but he was a tight-fisted hand at the grindstone, Scrooge! a squeezing, wrenching, grasping, scraping, clutching, covetous, old sinner! Hard and sharp as flint, from which no steel had ever struck out generous fire; secret, and self-contained, and solitary as an oyster. The cold within him froze his old features, nipped his pointed nose, shrivelled his cheek, stiffened his gait; made his eyes red, his thin lips blue; and spoke out shrewdly in his grating voice. A frosty rime was on his head, and on his eyebrows, and his wiry chin. He carried his own low temperature always about with him; he iced his office in the dog-days; and didn\\'t thaw it one degree at Christmas. || External heat and cold had little influence on Scrooge. No warmth could warm, no wintry weather chill him. No wind that blew was bitterer than he, no falling snow was more intent upon its purpose, no pelting rain less open to entreaty. Foul weather didn\\'t know where to have him. The heaviest rain, and snow, and hail, and sleet could boast of the advantage over him in only one respect. They often \"came down\" handsomely and Scrooge never did.', 'title': 'AChristmasCarol', 'author': 'CharlesDickens'}\n",
      "^^^^^^^^^\n",
      "^^^^^^^^^\n",
      "{'text_blob': 'Nobody ever stopped him in the street to say, with gladsome looks, \"My dear Scrooge, how are you? When will you come to see me?\" No beggars implored him to bestow a trifle, no children asked him what it was o\\'clock, no man or woman ever once in all his life inquired the way to such and such a place, of Scrooge. Even the blind men\\'s dogs appeared to know him; and, when they saw him coming on, would tug their owners into doorways and up courts; and then would wag their tails as though they said, \"No eye at all is better than an evil eye, dark master!\" || But what did Scrooge care? It was the very thing he liked. To edge his way along the crowded paths of life, warning all human sympathy to keep its distance, was what the knowing ones call \"nuts\" to Scrooge. || Once upon a time--of all the good days in the year, on Christmas Eve--old Scrooge sat busy in his counting-house. It was cold, bleak, biting weather: foggy withal: and he could hear the people in the court outside go wheezing up and down, beating their hands upon their breasts, and stamping their feet upon the pavement stones to warm them. The City clocks had only just gone three, but it was quite dark already--it had not been light all day--and candles were flaring in the windows of the neighbouring offices, like ruddy smears upon the palpable brown air. The fog came pouring in at every chink and keyhole, and was so dense without, that, although the court was of the narrowest, the houses opposite were mere phantoms. To see the dingy cloud come drooping down, obscuring everything, one might have thought that nature lived hard by and was brewing on a large scale.', 'title': 'AChristmasCarol', 'author': 'CharlesDickens'}\n",
      "^^^^^^^^^\n",
      "^^^^^^^^^\n",
      "{'text_blob': 'The door of Scrooge\\'s counting-house was open, that he might keep his eye upon his clerk, who in a dismal little cell beyond, a sort of tank, was copying letters. Scrooge had a very small fire, but the clerk\\'s fire was so very much smaller that it looked like one coal. But he couldn\\'t replenish it, for Scrooge kept the coal-box in his own room; and so surely as the clerk came in with the shovel, the master predicted that it would be necessary for them to part. Wherefore the clerk put on his white comforter, and tried to warm himself at the candle; in which effort, not being a man of strong imagination, he failed. || \"A merry Christmas, uncle! God save you!\" cried a cheerful voice. It was the voice of Scrooge\\'s nephew, who came upon him so quickly that this was the first intimation he had of his approach. || \"Bah!\" said Scrooge. \"Humbug!\" || He had so heated himself with rapid walking in the fog and frost, this nephew of Scrooge\\'s, that he was all in a glow; his face was ruddy and handsome; his eyes sparkled, and his breath smoked again. || \"Christmas a humbug, uncle!\" said Scrooge\\'s nephew. \"You don\\'t mean that, I am sure?\"', 'title': 'AChristmasCarol', 'author': 'CharlesDickens'}\n",
      "^^^^^^^^^\n",
      "^^^^^^^^^\n"
     ]
    }
   ],
   "source": [
    "book_sec = process_book('data/AChristmasCarol_CharlesDickens.txt')\n",
    "\n",
    "for item in book_sec[0:5]:\n",
    "    print item\n",
    "    print '^^^^^^^^^'\n",
    "    print '^^^^^^^^^'"
   ]
  },
  {
   "cell_type": "code",
   "execution_count": null,
   "metadata": {
    "collapsed": true
   },
   "outputs": [],
   "source": []
  }
 ],
 "metadata": {
  "anaconda-cloud": {},
  "kernelspec": {
   "display_name": "Python 2",
   "language": "python",
   "name": "python2"
  },
  "language_info": {
   "codemirror_mode": {
    "name": "ipython",
    "version": 2
   },
   "file_extension": ".py",
   "mimetype": "text/x-python",
   "name": "python",
   "nbconvert_exporter": "python",
   "pygments_lexer": "ipython2",
   "version": "2.7.12"
  }
 },
 "nbformat": 4,
 "nbformat_minor": 2
}
