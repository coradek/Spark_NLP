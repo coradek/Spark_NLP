{
 "cells": [
  {
   "cell_type": "markdown",
   "metadata": {},
   "source": [
    "# excerpt metadata functions"
   ]
  },
  {
   "cell_type": "code",
   "execution_count": null,
   "metadata": {
    "collapsed": true
   },
   "outputs": [],
   "source": [
    "# Space for Imports"
   ]
  },
  {
   "cell_type": "code",
   "execution_count": 1,
   "metadata": {
    "collapsed": false
   },
   "outputs": [
    {
     "name": "stdout",
     "output_type": "stream",
     "text": [
      "root\n",
      " |-- author: string (nullable = true)\n",
      " |-- excerpt: string (nullable = true)\n",
      " |-- excerpt_number: long (nullable = true)\n",
      " |-- title: string (nullable = true)\n",
      " |-- author_id: double (nullable = true)\n",
      " |-- title_id: double (nullable = true)\n",
      " |-- id_vector: vector (nullable = true)\n",
      " |-- words: array (nullable = true)\n",
      " |    |-- element: string (containsNull = true)\n",
      " |-- termfreq: vector (nullable = true)\n",
      " |-- tfidf: vector (nullable = true)\n",
      " |-- w2v: vector (nullable = true)\n",
      " |-- w2v_2d: vector (nullable = true)\n",
      "\n",
      "None\n"
     ]
    }
   ],
   "source": [
    "sample_data = spark.read.parquet(\"data/sample_data.parquet/\")\n",
    "data = spark.read.parquet(\"data/data.parquet/\")\n",
    "print(data.printSchema())"
   ]
  },
  {
   "cell_type": "code",
   "execution_count": 6,
   "metadata": {
    "collapsed": false
   },
   "outputs": [
    {
     "name": "stdout",
     "output_type": "stream",
     "text": [
      "+--------------+---------------+--------------+--------------------+\n",
      "|        author|          title|excerpt_number|               words|\n",
      "+--------------+---------------+--------------+--------------------+\n",
      "|CharlesDickens|AChristmasCarol|             0|[a, christmas, ca...|\n",
      "|CharlesDickens|AChristmasCarol|             1|[mind, !, i, do, ...|\n",
      "|CharlesDickens|AChristmasCarol|             2|[scrooge, never, ...|\n",
      "|CharlesDickens|AChristmasCarol|             3|[nobody, ever, st...|\n",
      "|CharlesDickens|AChristmasCarol|             4|[the, door, of, s...|\n",
      "+--------------+---------------+--------------+--------------------+\n",
      "only showing top 5 rows\n",
      "\n"
     ]
    }
   ],
   "source": [
    "df = data.select(\"author\", \"title\", \"excerpt_number\", \"words\").persist()\n",
    "df.show(5)"
   ]
  },
  {
   "cell_type": "code",
   "execution_count": 31,
   "metadata": {
    "collapsed": false
   },
   "outputs": [],
   "source": [
    "def not_word(words):\n",
    "    letters = set([x for x in \"abcdefghijklmnopqrstuvwxyzABCDEFGHIJKLMNOPQRSTUVWXYZ\"])\n",
    "    return set(word for word in words if (word[0] not in letters and len(word)==1))"
   ]
  },
  {
   "cell_type": "code",
   "execution_count": 40,
   "metadata": {
    "collapsed": false
   },
   "outputs": [
    {
     "name": "stdout",
     "output_type": "stream",
     "text": [
      "['the', 'clerk', 'in', 'the', 'tank', 'involuntarily', 'applauded', '.', 'becoming', 'immediately', 'sensible', 'of', 'the', 'impropriety', ',', 'he', 'poked', 'the', 'fire', ',', 'and', 'extinguished', 'the', 'last', 'frail', 'spark', 'for', 'ever', '.', '||', '\"', 'let', 'me', 'hear', 'another', 'sound', 'from', '_', 'you', '_', ',', '\"', 'said', 'scrooge', ',', '\"', 'and', 'you', \"'ll\", 'keep', 'your', 'christmas', 'by', 'losing', 'your', 'situation', '!', 'you', \"'re\", 'quite', 'a', 'powerful', 'speaker', ',', 'sir', ',', '\"', 'he', 'added', ',', 'turning', 'to', 'his', 'nephew', '.', '\"', 'i', 'wonder', 'you', 'do', \"n't\", 'go', 'into', 'parliament', '.', '\"', '||', '\"', 'do', \"n't\", 'be', 'angry', ',', 'uncle', '.', 'come', '!', 'dine', 'with', 'us', 'to', '-', 'morrow', '.', '\"', '||', 'scrooge', 'said', 'that', 'he', 'would', 'see', 'him----yes', ',', 'indeed', 'he', 'did', '.', 'he', 'went', 'the', 'whole', 'length', 'of', 'the', 'expression', ',', 'and', 'said', 'that', 'he', 'would', 'see', 'him', 'in', 'that', 'extremity', 'first', '.', '||', '\"', 'but', 'why', '?', '\"', 'cried', 'scrooge', \"'s\", 'nephew', '.', '\"', 'why', '?', '\"', '||', '\"', 'why', 'did', 'you', 'get', 'married', '?', '\"', 'said', 'scrooge', '.', '||', '\"', 'because', 'i', 'fell', 'in', 'love', '.', '\"', '||', '\"', 'because', 'you', 'fell', 'in', 'love', '!', '\"', 'growled', 'scrooge', ',', 'as', 'if', 'that', 'were', 'the', 'only', 'one', 'thing', 'in', 'the', 'world', 'more', 'ridiculous', 'than', 'a', 'merry', 'christmas', '.', '\"', 'good', 'afternoon', '!', '\"', '||', '\"', 'nay', ',', 'uncle', ',', 'but', 'you', 'never', 'came', 'to', 'see', 'me', 'before', 'that', 'happened', '.', 'why', 'give', 'it', 'as', 'a', 'reason', 'for', 'not', 'coming', 'now', '?', '\"', '||', '\"', 'good', 'afternoon', ',', '\"', 'said', 'scrooge', '.', '||', '\"', 'i', 'want', 'nothing', 'from', 'you', ';', 'i', 'ask', 'nothing', 'of', 'you', ';', 'why', 'can', 'not', 'we', 'be', 'friends', '?', '\"', '||', '\"', 'good', 'afternoon', '!', '\"', 'said', 'scrooge', '.']\n",
      "{'?', '-', '.', '_', '\"', '!', ';', ','}\n"
     ]
    }
   ],
   "source": [
    "temp = df.take(8)[7][\"words\"]\n",
    "print(temp)\n",
    "print(not_word(temp))"
   ]
  },
  {
   "cell_type": "code",
   "execution_count": 59,
   "metadata": {
    "collapsed": false
   },
   "outputs": [],
   "source": [
    "def words_found(words):\n",
    "    letters = set([x for x in \"abcdefghijklmnopqrstuvwxyzABCDEFGHIJKLMNOPQRSTUVWXYZ\"])\n",
    "    S = set(w for w in words if w[0] in letters or (len(w)>1 and w[1] in letters))\n",
    "    return S\n",
    "\n",
    "def unique_words(words):\n",
    "    return len(words_found(words))\n",
    "\n",
    "def word_count(words):\n",
    "    # Known Flaws:\n",
    "    # possessives (e.g. \"Bob's\") will be counted as two words!\n",
    "    # hypenated phrases (e.g. \"he--wait!) will be counted as one word\n",
    "    \n",
    "    letters = set([x for x in \"abcdefghijklmnopqrstuvwxyzABCDEFGHIJKLMNOPQRSTUVWXYZ\"])\n",
    "    S = [w for w in words if w[0] in letters or (len(w)>1 and w[1] in letters)]\n",
    "    return len(S)\n",
    "\n",
    "def sent_count(words):\n",
    "    return sum(words.count(x) for x in [\".\", \"!\", \"?\"])\n",
    "\n",
    "def para_count(words):\n",
    "    return words.count('||')+1\n",
    "\n",
    "\n",
    "def metadata(words):\n",
    "    print(words_found(words), \"\\n\")\n",
    "    print(\"unique wrd: \", unique_words(words))\n",
    "    print('word count: ', word_count(words))\n",
    "    print('sent count: ', sent_count(words))\n",
    "    print('para count: ', para_count(words))\n"
   ]
  },
  {
   "cell_type": "code",
   "execution_count": 60,
   "metadata": {
    "collapsed": false
   },
   "outputs": [
    {
     "name": "stdout",
     "output_type": "stream",
     "text": [
      "{'we', 'morrow', 'for', 'sound', 'want', 'as', 'you', 'sir', 'why', 'fire', 'friends', 'by', 'get', 'a', 'quite', 'merry', 'did', \"'ll\", 'never', 'world', 'be', 'reason', 'now', 'frail', 'that', \"'s\", 'scrooge', 'last', 'to', 'nothing', 'not', 'married', 'immediately', 'becoming', 'one', 'losing', 'turning', 'more', 'speaker', 'me', 'tank', 'indeed', 'growled', 'give', 'love', 'uncle', 'wonder', \"n't\", \"'re\", 'spark', 'than', 'can', 'said', 'added', 'before', 'he', 'i', 'poked', 'happened', 'parliament', 'with', 'but', 'keep', 'because', 'fell', 'the', 'another', 'it', 'extinguished', 'nephew', 'went', 'first', 'powerful', 'ridiculous', 'afternoon', 'ever', 'and', 'only', 'clerk', 'let', 'came', 'in', 'see', 'if', 'impropriety', 'his', 'situation', 'applauded', 'us', 'from', 'into', 'your', 'length', 'thing', 'dine', 'sensible', 'him----yes', 'of', 'were', 'expression', 'whole', 'him', 'do', 'hear', 'ask', 'go', 'extremity', 'coming', 'come', 'would', 'angry', 'good', 'involuntarily', 'cried', 'nay', 'christmas'} \n",
      "\n",
      "unique wrd:  116\n",
      "word count:  196\n",
      "sent count:  25\n",
      "para count:  12\n"
     ]
    }
   ],
   "source": [
    "metadata(temp)"
   ]
  },
  {
   "cell_type": "code",
   "execution_count": 61,
   "metadata": {
    "collapsed": false
   },
   "outputs": [
    {
     "name": "stdout",
     "output_type": "stream",
     "text": [
      "{'out', 'morrow', 'how', 'for', 'little', 'jobbing', 'they', 'could', 'about', 'business', 'want', 'then', 'stark', 'so', 'rightly', 'advance', 'as', 'old', 'used', 'england', 'after', 'back', 'degree', 'you', 'parish', 'sir', 'cogitation', 'been', 'where', 'by', 'get', 'yourself', 'expect', 'pleaded', 'description', 'a', 'eyes', 'tellson', 'floppin’', 'wives', 'did', 'patron', 'great', 'respectable', 'secret', 'never', 'side', 'ruinating', 'mr.', 'doctors’', 'idea', 'their', 'even', 'n’t', 'might', 'ud', 'be', 'o’', 'sarse', 'till', 'account', 'that', 'what', 'my', 'to', 'not', 'quarter', 'watchmen', '’m', 'own', 'there', 'doctors', 'upon', 'one', 'took', 'wot', 'picking', 'hour', 'all', 'imposing', 'more', 'gentleman', 'shoulders', 'me', 'lorry', 'honour', 'way', 'which', 'prosper', 'nor', 'cruncher', 'wos', 'hope', 'well', 'man', 'sides', 'messenger', 'mind', 'flop', 'tradesman', 'imposed', 'at', 'gander', 'em', 'catch', '’s', 'away', 'up', 'medical', 'carriages', 'patients', 'can', 'said', 'too', 'clerks', 'sextons', 'along', 'guineas', 'ah', 'mrs.', 'fardens', 'i', 'he', 'half', 'goes', 'with', 'but', 'keep', 'character', 'luminous', 'the', 'undertakers', 'it', 'sideways', 'forward', 'given', 't’other', '’ve', 'goose', 'had', 'blind', 'have', 'and', 'smoke', 'some', 'or', 'jerry', 'floppings', 'when', 'unlawful', 'times', 'came', 'like', 'in', 'if', 'present', 'see', 'line', 'again', 'house', 'much', 'think', 'his', 'shaking', 'occupation', 'pick', 'going', 'odd', 'say', 'no', 'into', 'leastways', 'awaricious', 'your', 'twice', 'favour', 'banking', 'cause', 'befriend', 'conceived', 'angrily', 'abashed', 'intent', 'cocking', 'of', '’d', 'honest', 'accompanied', 'once', 'equally', 'them', 'him', 'infamous', 'do', 'whereas', 'on', 'an', 'forefinger', 'harming', 'look', 'being', 'sly', 'come', 'would', 'besides', 'good', 'replying', 'grey', 'shall', 'two', 'private', 'here', 'agicultooral', 'is', 'yet', 'without', 'misgives'} \n",
      "\n",
      "unique wrd:  217\n",
      "word count:  452\n",
      "sent count:  24\n",
      "para count:  6\n"
     ]
    }
   ],
   "source": [
    "temp2 = df.take(1000)[999][\"words\"]\n",
    "metadata(temp2)"
   ]
  },
  {
   "cell_type": "code",
   "execution_count": null,
   "metadata": {
    "collapsed": true
   },
   "outputs": [],
   "source": []
  }
 ],
 "metadata": {
  "kernelspec": {
   "display_name": "py35",
   "language": "python",
   "name": "py35"
  },
  "language_info": {
   "codemirror_mode": {
    "name": "ipython",
    "version": 3
   },
   "file_extension": ".py",
   "mimetype": "text/x-python",
   "name": "python",
   "nbconvert_exporter": "python",
   "pygments_lexer": "ipython3",
   "version": "3.5.2"
  }
 },
 "nbformat": 4,
 "nbformat_minor": 2
}
