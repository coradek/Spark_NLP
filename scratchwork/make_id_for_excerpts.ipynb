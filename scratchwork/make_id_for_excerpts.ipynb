{
 "cells": [
  {
   "cell_type": "code",
   "execution_count": 42,
   "metadata": {
    "collapsed": true
   },
   "outputs": [],
   "source": [
    "from pyspark.ml.feature import StringIndexer\n",
    "from pyspark.ml.linalg import Vectors\n",
    "from pyspark.ml.feature import VectorAssembler\n",
    "from pyspark.ml import Pipeline\n",
    "\n",
    "\n",
    "from src.nlp_pipeline import get_pipeline\n"
   ]
  },
  {
   "cell_type": "code",
   "execution_count": 43,
   "metadata": {
    "collapsed": false
   },
   "outputs": [
    {
     "name": "stdout",
     "output_type": "stream",
     "text": [
      "root\n",
      " |-- author: string (nullable = true)\n",
      " |-- excerpt: string (nullable = true)\n",
      " |-- excerpt_number: long (nullable = true)\n",
      " |-- title: string (nullable = true)\n",
      "\n",
      "row count:  9050\n",
      "+--------------+--------------------+--------------+---------------+\n",
      "|        author|             excerpt|excerpt_number|          title|\n",
      "+--------------+--------------------+--------------+---------------+\n",
      "|CharlesDickens|A CHRISTMAS CAROL...|             0|AChristmasCarol|\n",
      "|CharlesDickens|Mind! I don't mea...|             1|AChristmasCarol|\n",
      "|CharlesDickens|Scrooge never pai...|             2|AChristmasCarol|\n",
      "+--------------+--------------------+--------------+---------------+\n",
      "only showing top 3 rows\n",
      "\n"
     ]
    }
   ],
   "source": [
    "data_file = 'data/excerpts.json'\n",
    "raw_df = spark.read.json(data_file)\n",
    "\n",
    "raw_df.printSchema()\n",
    "print(\"row count: \", raw_df.count())\n",
    "raw_df.show(3)\n",
    "\n",
    "\n",
    "# create copy of raw_df incase I mess things up :P\n",
    "df = raw_df"
   ]
  },
  {
   "cell_type": "code",
   "execution_count": 44,
   "metadata": {
    "collapsed": false
   },
   "outputs": [
    {
     "name": "stdout",
     "output_type": "stream",
     "text": [
      "+--------------+--------------------+--------------------+--------------+\n",
      "|        author|               title|             excerpt|excerpt_number|\n",
      "+--------------+--------------------+--------------------+--------------+\n",
      "|CharlesDickens|     AChristmasCarol|It was not an agr...|            25|\n",
      "|CharlesDickens|    ATaleOfTwoCities|“So soon?” || Mis...|            25|\n",
      "|CharlesDickens|    DavidCopperfield|‘Peggotty,’ says ...|            25|\n",
      "|CharlesDickens|   GreatExpectations|“What’s in the bo...|            25|\n",
      "|CharlesDickens|         OliverTwist|'Walk in,' said t...|            25|\n",
      "|    JaneAusten|                Emma|She was so busy i...|            25|\n",
      "|    JaneAusten|       MansfieldPark|Fanny was too muc...|            25|\n",
      "|    JaneAusten|          Persuasion|But Mrs Clay was ...|            25|\n",
      "|    JaneAusten|   PrideAndPrejudice|“Not as you repre...|            25|\n",
      "|    JaneAusten| SenseAndSensibility|\"It is but a cott...|            25|\n",
      "|      JohnMuir|MyFirstSummerInTh...|How fine the weat...|            25|\n",
      "|      JohnMuir|            Stickeen|Thereafter Sticke...|            25|\n",
      "|      JohnMuir|TheStoryofMyBoyho...|Our amusements on...|            25|\n",
      "|      JohnMuir|         TheYosemite|The Royal Arch Fa...|            25|\n",
      "|      JohnMuir|     TravelsInAlaska|The very brightes...|            25|\n",
      "|     MarkTwain|AConnecticutYanke...|Now Sir Kay arose...|            25|\n",
      "|     MarkTwain|          RoughingIt|When a party camp...|            25|\n",
      "|     MarkTwain|TheAdventuresOfHu...|“How you talk, Hu...|            25|\n",
      "|     MarkTwain|  TheInnocentsAbroad|We steamed down t...|            25|\n",
      "|     MarkTwain|TheTragedyofPuddn...|\"Dey ain't but on...|            25|\n",
      "+--------------+--------------------+--------------------+--------------+\n",
      "\n"
     ]
    }
   ],
   "source": [
    "df.createOrReplaceTempView(\"df\")\n",
    "\n",
    "tiny_df = spark.sql(\"\"\"\n",
    "        SELECT author, title, excerpt, excerpt_number\n",
    "        FROM df\n",
    "        WHERE excerpt_number = 25\n",
    "        ORDER BY author, title\n",
    "        \"\"\").persist()\n",
    "\n",
    "tiny_df.show()"
   ]
  },
  {
   "cell_type": "code",
   "execution_count": 15,
   "metadata": {
    "collapsed": false
   },
   "outputs": [
    {
     "name": "stdout",
     "output_type": "stream",
     "text": [
      "root\n",
      " |-- author: string (nullable = true)\n",
      " |-- title: string (nullable = true)\n",
      " |-- excerpt: string (nullable = true)\n",
      " |-- excerpt_number: long (nullable = true)\n",
      " |-- author_label: integer (nullable = true)\n",
      " |-- title_label: integer (nullable = true)\n",
      " |-- words: array (nullable = true)\n",
      " |    |-- element: string (containsNull = true)\n",
      " |-- termfreq: vector (nullable = true)\n",
      " |-- tfidf: vector (nullable = true)\n",
      " |-- w2v: vector (nullable = true)\n",
      " |-- w2v_2d: vector (nullable = true)\n",
      "\n"
     ]
    }
   ],
   "source": [
    "nlp_pipeline = get_pipeline()\n",
    "tiny_df = nlp_pipeline.fit(tiny_df).transform(tiny_df).persist()\n",
    "tiny_df.printSchema()"
   ]
  },
  {
   "cell_type": "code",
   "execution_count": 18,
   "metadata": {
    "collapsed": false
   },
   "outputs": [
    {
     "name": "stdout",
     "output_type": "stream",
     "text": [
      "root\n",
      " |-- author: string (nullable = true)\n",
      " |-- title: string (nullable = true)\n",
      " |-- excerpt: string (nullable = true)\n",
      " |-- excerpt_number: long (nullable = true)\n",
      " |-- words: array (nullable = true)\n",
      " |    |-- element: string (containsNull = true)\n",
      " |-- termfreq: vector (nullable = true)\n",
      " |-- tfidf: vector (nullable = true)\n",
      " |-- w2v: vector (nullable = true)\n",
      " |-- w2v_2d: vector (nullable = true)\n",
      "\n"
     ]
    }
   ],
   "source": [
    "tiny_df = tiny_df.drop(\"author_label\").drop(\"title_label\")\n",
    "tiny_df.printSchema()"
   ]
  },
  {
   "cell_type": "code",
   "execution_count": null,
   "metadata": {
    "collapsed": true
   },
   "outputs": [],
   "source": []
  },
  {
   "cell_type": "code",
   "execution_count": 38,
   "metadata": {
    "collapsed": false
   },
   "outputs": [],
   "source": [
    "author_labler = StringIndexer(inputCol=\"author\", outputCol=\"author_id\")\n",
    "title_labler = StringIndexer(inputCol=\"title\", outputCol=\"title_id\")\n",
    "row_labler = StringIndexer(inputCol=\"excerpt\", outputCol=\"row_id\")\n",
    "vector_ider = VectorAssembler(\n",
    "    inputCols=[\"author_id\", \"title_id\", \"excerpt_number\"],\n",
    "    outputCol=\"id_vector\")\n",
    "\n",
    "id_pipeline = Pipeline(stages=[author_labler, title_labler, vec_ider])"
   ]
  },
  {
   "cell_type": "code",
   "execution_count": 39,
   "metadata": {
    "collapsed": false
   },
   "outputs": [
    {
     "name": "stdout",
     "output_type": "stream",
     "text": [
      "root\n",
      " |-- author: string (nullable = true)\n",
      " |-- title: string (nullable = true)\n",
      " |-- excerpt: string (nullable = true)\n",
      " |-- excerpt_number: long (nullable = true)\n",
      " |-- words: array (nullable = true)\n",
      " |    |-- element: string (containsNull = true)\n",
      " |-- termfreq: vector (nullable = true)\n",
      " |-- tfidf: vector (nullable = true)\n",
      " |-- w2v: vector (nullable = true)\n",
      " |-- w2v_2d: vector (nullable = true)\n",
      " |-- author_id: double (nullable = true)\n",
      " |-- title_id: double (nullable = true)\n",
      " |-- id_vector: vector (nullable = true)\n",
      "\n"
     ]
    }
   ],
   "source": [
    "labeled_df = id_pipeline.fit(tiny_df).transform(tiny_df)\n",
    "labeled_df.printSchema()"
   ]
  },
  {
   "cell_type": "code",
   "execution_count": 41,
   "metadata": {
    "collapsed": false,
    "scrolled": false
   },
   "outputs": [
    {
     "name": "stdout",
     "output_type": "stream",
     "text": [
      "+--------------+---------+--------------------+--------+---------------+--------------------+\n",
      "|        author|author_id|               title|title_id|      id_vector|               words|\n",
      "+--------------+---------+--------------------+--------+---------------+--------------------+\n",
      "|     MarkTwain|      0.0|  TheInnocentsAbroad|     0.0| [0.0,0.0,25.0]|[we, steamed, dow...|\n",
      "|     MarkTwain|      0.0|TheAdventuresOfHu...|     2.0| [0.0,2.0,25.0]|[“, how, you, tal...|\n",
      "|     MarkTwain|      0.0|          RoughingIt|     7.0| [0.0,7.0,25.0]|[when, a, party, ...|\n",
      "|     MarkTwain|      0.0|TheTragedyofPuddn...|    12.0|[0.0,12.0,25.0]|[\", dey, ai, n't,...|\n",
      "|     MarkTwain|      0.0|AConnecticutYanke...|    17.0|[0.0,17.0,25.0]|[now, sir, kay, a...|\n",
      "|CharlesDickens|      1.0|   GreatExpectations|     6.0| [1.0,6.0,25.0]|[“, what, ’s, in,...|\n",
      "|CharlesDickens|      1.0|     AChristmasCarol|    11.0|[1.0,11.0,25.0]|[it, was, not, an...|\n",
      "|CharlesDickens|      1.0|    ATaleOfTwoCities|    14.0|[1.0,14.0,25.0]|[“, so, soon, ?, ...|\n",
      "|CharlesDickens|      1.0|    DavidCopperfield|    18.0|[1.0,18.0,25.0]|[‘, peggotty,’, s...|\n",
      "|CharlesDickens|      1.0|         OliverTwist|    19.0|[1.0,19.0,25.0]|[', walk, in, ,, ...|\n",
      "|      JohnMuir|      2.0|            Stickeen|     4.0| [2.0,4.0,25.0]|[thereafter, stic...|\n",
      "|      JohnMuir|      2.0|TheStoryofMyBoyho...|     5.0| [2.0,5.0,25.0]|[our, amusements,...|\n",
      "|      JohnMuir|      2.0|MyFirstSummerInTh...|     8.0| [2.0,8.0,25.0]|[how, fine, the, ...|\n",
      "|      JohnMuir|      2.0|         TheYosemite|    15.0|[2.0,15.0,25.0]|[the, royal, arch...|\n",
      "|      JohnMuir|      2.0|     TravelsInAlaska|    16.0|[2.0,16.0,25.0]|[the, very, brigh...|\n",
      "|    JaneAusten|      3.0| SenseAndSensibility|     1.0| [3.0,1.0,25.0]|[\", it, is, but, ...|\n",
      "|    JaneAusten|      3.0|                Emma|     3.0| [3.0,3.0,25.0]|[she, was, so, bu...|\n",
      "|    JaneAusten|      3.0|          Persuasion|     9.0| [3.0,9.0,25.0]|[but, mrs, clay, ...|\n",
      "|    JaneAusten|      3.0|   PrideAndPrejudice|    10.0|[3.0,10.0,25.0]|[“, not, as, you,...|\n",
      "|    JaneAusten|      3.0|       MansfieldPark|    13.0|[3.0,13.0,25.0]|[fanny, was, too,...|\n",
      "+--------------+---------+--------------------+--------+---------------+--------------------+\n",
      "\n"
     ]
    }
   ],
   "source": [
    "labeled_df.createOrReplaceTempView(\"Labeled\")\n",
    "\n",
    "spark.sql(\"\"\"\n",
    "        SELECT author, author_id\n",
    "             , title, title_id\n",
    "             , id_vector, words\n",
    "        FROM Labeled\n",
    "        Order BY id_vector\n",
    "        \"\"\").show()"
   ]
  },
  {
   "cell_type": "code",
   "execution_count": null,
   "metadata": {
    "collapsed": true
   },
   "outputs": [],
   "source": []
  }
 ],
 "metadata": {
  "kernelspec": {
   "display_name": "py35",
   "language": "python",
   "name": "py35"
  },
  "language_info": {
   "codemirror_mode": {
    "name": "ipython",
    "version": 3
   },
   "file_extension": ".py",
   "mimetype": "text/x-python",
   "name": "python",
   "nbconvert_exporter": "python",
   "pygments_lexer": "ipython3",
   "version": "3.5.2"
  }
 },
 "nbformat": 4,
 "nbformat_minor": 2
}
